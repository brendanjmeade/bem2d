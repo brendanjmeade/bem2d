{
 "cells": [
  {
   "cell_type": "code",
   "execution_count": 1,
   "metadata": {},
   "outputs": [],
   "source": [
    "from sage.symbolic.integration.integral import indefinite_integral\n",
    "from sage.symbolic.integration.integral import definite_integral\n",
    "from sage.symbolic.integration.integral import integral\n",
    "from sage.misc.latex import MathJax"
   ]
  },
  {
   "cell_type": "code",
   "execution_count": 2,
   "metadata": {},
   "outputs": [],
   "source": [
    "var('x xs y a nu')\n",
    "var('f0 f1 f2 f3 f4 f5 f6')\n",
    "assume(a > 0)\n",
    "assume(nu > 0)"
   ]
  },
  {
   "cell_type": "code",
   "execution_count": 3,
   "metadata": {},
   "outputs": [],
   "source": [
    "f0 = -1 / (4 * pi * (1 - nu)) * (y * arctan2(y, (x-xs)) - (x-xs) * log(sqrt((x-xs)^2 + y^2)))\n",
    "f1 = -1 / (4 * pi * (1 - nu)) * arctan2(y, (x-xs))\n",
    "f2 = 1 / (4 * pi * (1 - nu)) * log(sqrt((x-xs)^2 + y^2))\n",
    "f3 = 1 / (4 * pi * (1 - nu)) * (y / ((x-xs)^2 + y^2))\n",
    "f4 = 1 / (4 * pi * (1 - nu)) * ((x-xs) / ((x-xs)^2 + y^2))\n",
    "f5 = 1 / (4 * pi * (1 - nu)) * (((x-xs)^2 - y^2) / ((x-xs)^2 + y^2)^2)\n",
    "f6 = 2 * y / (4 * pi * (1 - nu)) * ((x-xs) / ((x-xs)^2 + y^2)^2)"
   ]
  },
  {
   "cell_type": "code",
   "execution_count": 4,
   "metadata": {},
   "outputs": [
    {
     "name": "stdout",
     "output_type": "stream",
     "text": [
      "1/4*((x - xs)^2/((x - xs)^2 + y^2) + y^2/((x - xs)^2 + y^2) + log(sqrt((x - xs)^2 + y^2)))/(pi*(nu - 1))\n",
      "1/4*y/(pi*((x - xs)^2 + y^2)*(nu - 1))\n",
      "1/4*(x - xs)/(pi*((x - xs)^2 + y^2)*(nu - 1))\n",
      "-1/2*(x - xs)*y/(pi*((x - xs)^2 + y^2)^2*(nu - 1))\n",
      "-1/2*(x - xs)^2/(pi*((x - xs)^2 + y^2)^2*(nu - 1)) + 1/4/(pi*((x - xs)^2 + y^2)*(nu - 1))\n",
      "1/2*(x - xs)/(pi*((x - xs)^2 + y^2)^2*(nu - 1)) - ((x - xs)^2 - y^2)*(x - xs)/(pi*((x - xs)^2 + y^2)^3*(nu - 1))\n",
      "-2*(x - xs)^2*y/(pi*((x - xs)^2 + y^2)^3*(nu - 1)) + 1/2*y/(pi*((x - xs)^2 + y^2)^2*(nu - 1))\n"
     ]
    }
   ],
   "source": [
    "# Does this convert from a line to a point?\n",
    "g0 = diff(f0, xs)\n",
    "g1 = diff(f1, xs)\n",
    "g2 = diff(f2, xs)\n",
    "g3 = diff(f3, xs)\n",
    "g4 = diff(f4, xs)\n",
    "g5 = diff(f5, xs)\n",
    "g6 = diff(f6, xs)\n",
    "print(g0)\n",
    "print(g1)\n",
    "print(g2)\n",
    "print(g3)\n",
    "print(g4)\n",
    "print(g5)\n",
    "print(g6)"
   ]
  },
  {
   "cell_type": "code",
   "execution_count": 5,
   "metadata": {
    "scrolled": true
   },
   "outputs": [
    {
     "name": "stdout",
     "output_type": "stream",
     "text": [
      "1/8*(2*y*(arctan((a + x)/y) - arctan(-(a - x)/y)) + a*log(a^2 + 2*a*x + x^2 + y^2) + a*log(a^2 - 2*a*x + x^2 + y^2) + x*log(abs(a^2 + 2*a*x + x^2 + y^2)) - x*log(abs(a^2 - 2*a*x + x^2 + y^2)))/(pi*(nu - 1))\n",
      " \n",
      "1/4*y*(arctan((a + x)/y)/y - arctan(-(a - x)/y)/y)/(pi*(nu - 1))\n",
      " \n",
      "1/8*(log(a^2 + 2*a*x + x^2 + y^2) - log(a^2 - 2*a*x + x^2 + y^2))/(pi*(nu - 1))\n",
      " \n",
      "1/4*y*(1/(a^2 + 2*a*x + x^2 + y^2) - 1/(a^2 - 2*a*x + x^2 + y^2))/(pi*(nu - 1))\n",
      " \n",
      "1/4*(a + x)/(pi*a^2*nu - pi*a^2 - (pi - pi*nu)*x^2 - (pi - pi*nu)*y^2 + 2*(pi*a*nu - pi*a)*x) + 1/4*(a - x)/(pi*a^2*nu - pi*a^2 - (pi - pi*nu)*x^2 - (pi - pi*nu)*y^2 - 2*(pi*a*nu - pi*a)*x)\n",
      " \n",
      "1/4*(a^2 + 2*a*x + x^2 - y^2)/(pi*a^4*nu - pi*a^4 - (pi - pi*nu)*x^4 - (pi - pi*nu)*y^4 + 4*(pi*a*nu - pi*a)*x^3 + 6*(pi*a^2*nu - pi*a^2)*x^2 + 2*(pi*a^2*nu - pi*a^2 - (pi - pi*nu)*x^2 + 2*(pi*a*nu - pi*a)*x)*y^2 + 4*(pi*a^3*nu - pi*a^3)*x) - 1/4*(a^2 - 2*a*x + x^2 - y^2)/(pi*a^4*nu - pi*a^4 - (pi - pi*nu)*x^4 - (pi - pi*nu)*y^4 - 4*(pi*a*nu - pi*a)*x^3 + 6*(pi*a^2*nu - pi*a^2)*x^2 + 2*(pi*a^2*nu - pi*a^2 - (pi - pi*nu)*x^2 - 2*(pi*a*nu - pi*a)*x)*y^2 - 4*(pi*a^3*nu - pi*a^3)*x)\n",
      " \n",
      "1/2*(a + x)*y/(pi*a^4*nu - pi*a^4 - (pi - pi*nu)*x^4 - (pi - pi*nu)*y^4 + 4*(pi*a*nu - pi*a)*x^3 + 6*(pi*a^2*nu - pi*a^2)*x^2 + 2*(pi*a^2*nu - pi*a^2 - (pi - pi*nu)*x^2 + 2*(pi*a*nu - pi*a)*x)*y^2 + 4*(pi*a^3*nu - pi*a^3)*x) + 1/2*(a - x)*y/(pi*a^4*nu - pi*a^4 - (pi - pi*nu)*x^4 - (pi - pi*nu)*y^4 - 4*(pi*a*nu - pi*a)*x^3 + 6*(pi*a^2*nu - pi*a^2)*x^2 + 2*(pi*a^2*nu - pi*a^2 - (pi - pi*nu)*x^2 - 2*(pi*a*nu - pi*a)*x)*y^2 - 4*(pi*a^3*nu - pi*a^3)*x)\n",
      " \n"
     ]
    }
   ],
   "source": [
    "# This is an attempt at constant slip elements that should mimic Starfield and Crouch\n",
    "g0 = definite_integral(diff(f0, xs), xs, -a, a)\n",
    "g1 = definite_integral(diff(f1, xs), xs, -a, a)\n",
    "g2 = definite_integral(diff(f2, xs), xs, -a, a)\n",
    "g3 = definite_integral(diff(f3, xs), xs, -a, a)\n",
    "g4 = definite_integral(diff(f4, xs), xs, -a, a)\n",
    "g5 = definite_integral(diff(f5, xs), xs, -a, a)\n",
    "g6 = definite_integral(diff(f6, xs), xs, -a, a)\n",
    "\n",
    "print(g0)\n",
    "print(\" \")\n",
    "print(g1)\n",
    "print(\" \")\n",
    "print(g2)\n",
    "print(\" \")\n",
    "print(g3)\n",
    "print(\" \")\n",
    "print(g4)\n",
    "print(\" \")\n",
    "print(g5)\n",
    "print(\" \")\n",
    "print(g6)\n",
    "print(\" \")"
   ]
  },
  {
   "cell_type": "code",
   "execution_count": 6,
   "metadata": {},
   "outputs": [
    {
     "name": "stdout",
     "output_type": "stream",
     "text": [
      "1/16*(a^2*log(a^2 + 2*a*x + x^2 + y^2) - a^2*log(a^2 - 2*a*x + x^2 + y^2) + 4*a*x - 4*(x*arctan((a + x)/y) + x*arctan((a - x)/y))*y - (x^2 - y^2)*log(abs(a^2 + 2*a*x + x^2 + y^2)) + (x^2 - y^2)*log(abs(a^2 - 2*a*x + x^2 + y^2)))/(pi - pi*nu)\n",
      " \n",
      "-1/8*(2*x*arctan((a + x)/y) + 2*x*arctan((a - x)/y) - y*log(abs(a^2 + 2*a*x + x^2 + y^2)) + y*log(abs(a^2 - 2*a*x + x^2 + y^2)))/(pi - pi*nu)\n",
      " \n",
      "-1/8*(2*y*(arctan((a + x)/y) + arctan((a - x)/y)) + x*log(abs(a^2 + 2*a*x + x^2 + y^2)) - x*log(abs(a^2 - 2*a*x + x^2 + y^2)) - 4*a)/(pi - pi*nu)\n",
      " \n",
      "1/4*(y^4*(arctan((a + x)/y) + arctan((a - x)/y)) - 2*a*y^3 + 2*((a^2 + x^2)*arctan((a + x)/y) + (a^2 + x^2)*arctan((a - x)/y))*y^2 - 2*(a^3 + a*x^2)*y + (a^4 - 2*a^2*x^2 + x^4)*arctan((a + x)/y) + (a^4 - 2*a^2*x^2 + x^4)*arctan((a - x)/y))/(pi*a^4*nu - pi*a^4 - (pi - pi*nu)*x^4 - (pi - pi*nu)*y^4 - 2*(pi*a^2*nu - pi*a^2)*x^2 + 2*(pi*a^2*nu - pi*a^2 - (pi - pi*nu)*x^2)*y^2)\n",
      " \n",
      "1/8*(4*a^3*x - 4*a*x^3 - 4*a*x*y^2 + (a^4 - 2*a^2*x^2 + x^4 + y^4 + 2*(a^2 + x^2)*y^2)*log(abs(a^2 + 2*a*x + x^2 + y^2)) - (a^4 - 2*a^2*x^2 + x^4 + y^4 + 2*(a^2 + x^2)*y^2)*log(abs(a^2 - 2*a*x + x^2 + y^2)))/(pi*a^4*nu - pi*a^4 - (pi - pi*nu)*x^4 - (pi - pi*nu)*y^4 - 2*(pi*a^2*nu - pi*a^2)*x^2 + 2*(pi*a^2*nu - pi*a^2 - (pi - pi*nu)*x^2)*y^2)\n",
      " \n",
      "-(a^7 - 2*a^5*x^2 + a^3*x^4 + a^3*y^4 + 2*(a^5 - 3*a^3*x^2)*y^2)/(pi*a^8*nu - pi*a^8 - (pi - pi*nu)*x^8 - (pi - pi*nu)*y^8 - 4*(pi*a^2*nu - pi*a^2)*x^6 + 4*(pi*a^2*nu - pi*a^2 - (pi - pi*nu)*x^2)*y^6 + 6*(pi*a^4*nu - pi*a^4)*x^4 + 2*(3*pi*a^4*nu - 3*pi*a^4 - 3*(pi - pi*nu)*x^4 + 2*(pi*a^2*nu - pi*a^2)*x^2)*y^4 - 4*(pi*a^6*nu - pi*a^6)*x^2 + 4*(pi*a^6*nu - pi*a^6 - (pi - pi*nu)*x^6 - (pi*a^2*nu - pi*a^2)*x^4 - (pi*a^4*nu - pi*a^4)*x^2)*y^2)\n",
      " \n",
      "4*(a^3*x*y^3 + (a^5*x - a^3*x^3)*y)/(pi*a^8*nu - pi*a^8 - (pi - pi*nu)*x^8 - (pi - pi*nu)*y^8 - 4*(pi*a^2*nu - pi*a^2)*x^6 + 4*(pi*a^2*nu - pi*a^2 - (pi - pi*nu)*x^2)*y^6 + 6*(pi*a^4*nu - pi*a^4)*x^4 + 2*(3*pi*a^4*nu - 3*pi*a^4 - 3*(pi - pi*nu)*x^4 + 2*(pi*a^2*nu - pi*a^2)*x^2)*y^4 - 4*(pi*a^6*nu - pi*a^6)*x^2 + 4*(pi*a^6*nu - pi*a^6 - (pi - pi*nu)*x^6 - (pi*a^2*nu - pi*a^2)*x^4 - (pi*a^4*nu - pi*a^4)*x^2)*y^2)\n",
      " \n"
     ]
    }
   ],
   "source": [
    "# This is an attempt at linear slip elements\n",
    "g0 = definite_integral(xs * diff(f0, xs), xs, -a, a)\n",
    "g1 = definite_integral(xs * diff(f1, xs), xs, -a, a)\n",
    "g2 = definite_integral(xs * diff(f2, xs), xs, -a, a)\n",
    "g3 = definite_integral(xs * diff(f3, xs), xs, -a, a)\n",
    "g4 = definite_integral(xs * diff(f4, xs), xs, -a, a)\n",
    "g5 = definite_integral(xs * diff(f5, xs), xs, -a, a)\n",
    "g6 = definite_integral(xs * diff(f6, xs), xs, -a, a)\n",
    "\n",
    "print(g0.simplify_full())\n",
    "print(\" \")\n",
    "print(g1.simplify_full())\n",
    "print(\" \")\n",
    "print(g2.simplify_full())\n",
    "print(\" \")\n",
    "print(g3.simplify_full())\n",
    "print(\" \")\n",
    "print(g4.simplify_full())\n",
    "print(\" \")\n",
    "print(g5.simplify_full())\n",
    "print(\" \")\n",
    "print(g6.simplify_full())\n",
    "print(\" \")"
   ]
  },
  {
   "cell_type": "code",
   "execution_count": 7,
   "metadata": {},
   "outputs": [
    {
     "ename": "RuntimeError",
     "evalue": "ECL says: Console interrupt.",
     "output_type": "error",
     "traceback": [
      "\u001b[0;31m---------------------------------------------------------------------------\u001b[0m",
      "\u001b[0;31mRuntimeError\u001b[0m                              Traceback (most recent call last)",
      "\u001b[0;32m<ipython-input-7-ced58514763a>\u001b[0m in \u001b[0;36m<module>\u001b[0;34m()\u001b[0m\n\u001b[1;32m      3\u001b[0m \u001b[0mh2\u001b[0m \u001b[0;34m=\u001b[0m \u001b[0mdefinite_integral\u001b[0m\u001b[0;34m(\u001b[0m\u001b[0mx\u001b[0m \u001b[0;34m*\u001b[0m \u001b[0mg2\u001b[0m\u001b[0;34m,\u001b[0m \u001b[0mx\u001b[0m\u001b[0;34m,\u001b[0m \u001b[0;34m-\u001b[0m\u001b[0ma\u001b[0m\u001b[0;34m,\u001b[0m \u001b[0ma\u001b[0m\u001b[0;34m)\u001b[0m\u001b[0;34m\u001b[0m\u001b[0m\n\u001b[1;32m      4\u001b[0m \u001b[0mh3\u001b[0m \u001b[0;34m=\u001b[0m \u001b[0mdefinite_integral\u001b[0m\u001b[0;34m(\u001b[0m\u001b[0mx\u001b[0m \u001b[0;34m*\u001b[0m \u001b[0mg3\u001b[0m\u001b[0;34m,\u001b[0m \u001b[0mx\u001b[0m\u001b[0;34m,\u001b[0m \u001b[0;34m-\u001b[0m\u001b[0ma\u001b[0m\u001b[0;34m,\u001b[0m \u001b[0ma\u001b[0m\u001b[0;34m)\u001b[0m\u001b[0;34m\u001b[0m\u001b[0m\n\u001b[0;32m----> 5\u001b[0;31m \u001b[0mh4\u001b[0m \u001b[0;34m=\u001b[0m \u001b[0mdefinite_integral\u001b[0m\u001b[0;34m(\u001b[0m\u001b[0mx\u001b[0m \u001b[0;34m*\u001b[0m \u001b[0mg4\u001b[0m\u001b[0;34m,\u001b[0m \u001b[0mx\u001b[0m\u001b[0;34m,\u001b[0m \u001b[0;34m-\u001b[0m\u001b[0ma\u001b[0m\u001b[0;34m,\u001b[0m \u001b[0ma\u001b[0m\u001b[0;34m)\u001b[0m\u001b[0;34m\u001b[0m\u001b[0m\n\u001b[0m\u001b[1;32m      6\u001b[0m \u001b[0mh5\u001b[0m \u001b[0;34m=\u001b[0m \u001b[0mdefinite_integral\u001b[0m\u001b[0;34m(\u001b[0m\u001b[0mx\u001b[0m \u001b[0;34m*\u001b[0m \u001b[0mg5\u001b[0m\u001b[0;34m,\u001b[0m \u001b[0mx\u001b[0m\u001b[0;34m,\u001b[0m \u001b[0;34m-\u001b[0m\u001b[0ma\u001b[0m\u001b[0;34m,\u001b[0m \u001b[0ma\u001b[0m\u001b[0;34m)\u001b[0m\u001b[0;34m\u001b[0m\u001b[0m\n\u001b[1;32m      7\u001b[0m \u001b[0mh6\u001b[0m \u001b[0;34m=\u001b[0m \u001b[0mdefinite_integral\u001b[0m\u001b[0;34m(\u001b[0m\u001b[0mx\u001b[0m \u001b[0;34m*\u001b[0m \u001b[0mg6\u001b[0m\u001b[0;34m,\u001b[0m \u001b[0mx\u001b[0m\u001b[0;34m,\u001b[0m \u001b[0;34m-\u001b[0m\u001b[0ma\u001b[0m\u001b[0;34m,\u001b[0m \u001b[0ma\u001b[0m\u001b[0;34m)\u001b[0m\u001b[0;34m\u001b[0m\u001b[0m\n",
      "\u001b[0;32m/Applications/SageMath-8.6.app/Contents/Resources/sage/local/lib/python2.7/site-packages/sage/symbolic/function.pyx\u001b[0m in \u001b[0;36msage.symbolic.function.BuiltinFunction.__call__ (build/cythonized/sage/symbolic/function.cpp:11934)\u001b[0;34m()\u001b[0m\n\u001b[1;32m    996\u001b[0m             \u001b[0mres\u001b[0m \u001b[0;34m=\u001b[0m \u001b[0mself\u001b[0m\u001b[0;34m.\u001b[0m\u001b[0m_evalf_try_\u001b[0m\u001b[0;34m(\u001b[0m\u001b[0;34m*\u001b[0m\u001b[0margs\u001b[0m\u001b[0;34m)\u001b[0m\u001b[0;34m\u001b[0m\u001b[0m\n\u001b[1;32m    997\u001b[0m             \u001b[0;32mif\u001b[0m \u001b[0mres\u001b[0m \u001b[0;32mis\u001b[0m \u001b[0mNone\u001b[0m\u001b[0;34m:\u001b[0m\u001b[0;34m\u001b[0m\u001b[0m\n\u001b[0;32m--> 998\u001b[0;31m                 res = super(BuiltinFunction, self).__call__(\n\u001b[0m\u001b[1;32m    999\u001b[0m                         *args, coerce=coerce, hold=hold)\n\u001b[1;32m   1000\u001b[0m \u001b[0;34m\u001b[0m\u001b[0m\n",
      "\u001b[0;32m/Applications/SageMath-8.6.app/Contents/Resources/sage/local/lib/python2.7/site-packages/sage/symbolic/function.pyx\u001b[0m in \u001b[0;36msage.symbolic.function.Function.__call__ (build/cythonized/sage/symbolic/function.cpp:6913)\u001b[0;34m()\u001b[0m\n\u001b[1;32m    485\u001b[0m             \u001b[0;32mfor\u001b[0m \u001b[0mi\u001b[0m \u001b[0;32mfrom\u001b[0m \u001b[0;36m0\u001b[0m \u001b[0;34m<=\u001b[0m \u001b[0mi\u001b[0m \u001b[0;34m<\u001b[0m \u001b[0mlen\u001b[0m\u001b[0;34m(\u001b[0m\u001b[0margs\u001b[0m\u001b[0;34m)\u001b[0m\u001b[0;34m:\u001b[0m\u001b[0;34m\u001b[0m\u001b[0m\n\u001b[1;32m    486\u001b[0m                 \u001b[0mvec\u001b[0m\u001b[0;34m.\u001b[0m\u001b[0mpush_back\u001b[0m\u001b[0;34m(\u001b[0m\u001b[0;34m(\u001b[0m\u001b[0;34m<\u001b[0m\u001b[0mExpression\u001b[0m\u001b[0;34m>\u001b[0m\u001b[0margs\u001b[0m\u001b[0;34m[\u001b[0m\u001b[0mi\u001b[0m\u001b[0;34m]\u001b[0m\u001b[0;34m)\u001b[0m\u001b[0;34m.\u001b[0m\u001b[0m_gobj\u001b[0m\u001b[0;34m)\u001b[0m\u001b[0;34m\u001b[0m\u001b[0m\n\u001b[0;32m--> 487\u001b[0;31m             \u001b[0mres\u001b[0m \u001b[0;34m=\u001b[0m \u001b[0mg_function_evalv\u001b[0m\u001b[0;34m(\u001b[0m\u001b[0mself\u001b[0m\u001b[0;34m.\u001b[0m\u001b[0m_serial\u001b[0m\u001b[0;34m,\u001b[0m \u001b[0mvec\u001b[0m\u001b[0;34m,\u001b[0m \u001b[0mhold\u001b[0m\u001b[0;34m)\u001b[0m\u001b[0;34m\u001b[0m\u001b[0m\n\u001b[0m\u001b[1;32m    488\u001b[0m         \u001b[0;32melif\u001b[0m \u001b[0mself\u001b[0m\u001b[0;34m.\u001b[0m\u001b[0m_nargs\u001b[0m \u001b[0;34m==\u001b[0m \u001b[0;36m1\u001b[0m\u001b[0;34m:\u001b[0m\u001b[0;34m\u001b[0m\u001b[0m\n\u001b[1;32m    489\u001b[0m             res = g_function_eval1(self._serial,\n",
      "\u001b[0;32m/Applications/SageMath-8.6.app/Contents/Resources/sage/local/lib/python2.7/site-packages/sage/symbolic/function.pyx\u001b[0m in \u001b[0;36msage.symbolic.function.BuiltinFunction._evalf_or_eval_ (build/cythonized/sage/symbolic/function.cpp:13073)\u001b[0;34m()\u001b[0m\n\u001b[1;32m   1084\u001b[0m         \u001b[0mres\u001b[0m \u001b[0;34m=\u001b[0m \u001b[0mself\u001b[0m\u001b[0;34m.\u001b[0m\u001b[0m_evalf_try_\u001b[0m\u001b[0;34m(\u001b[0m\u001b[0;34m*\u001b[0m\u001b[0margs\u001b[0m\u001b[0;34m)\u001b[0m\u001b[0;34m\u001b[0m\u001b[0m\n\u001b[1;32m   1085\u001b[0m         \u001b[0;32mif\u001b[0m \u001b[0mres\u001b[0m \u001b[0;32mis\u001b[0m \u001b[0mNone\u001b[0m\u001b[0;34m:\u001b[0m\u001b[0;34m\u001b[0m\u001b[0m\n\u001b[0;32m-> 1086\u001b[0;31m             \u001b[0;32mreturn\u001b[0m \u001b[0mself\u001b[0m\u001b[0;34m.\u001b[0m\u001b[0m_eval0_\u001b[0m\u001b[0;34m(\u001b[0m\u001b[0;34m*\u001b[0m\u001b[0margs\u001b[0m\u001b[0;34m)\u001b[0m\u001b[0;34m\u001b[0m\u001b[0m\n\u001b[0m\u001b[1;32m   1087\u001b[0m         \u001b[0;32melse\u001b[0m\u001b[0;34m:\u001b[0m\u001b[0;34m\u001b[0m\u001b[0m\n\u001b[1;32m   1088\u001b[0m             \u001b[0;32mreturn\u001b[0m \u001b[0mres\u001b[0m\u001b[0;34m\u001b[0m\u001b[0m\n",
      "\u001b[0;32m/Applications/SageMath-8.6.app/Contents/Resources/sage/local/lib/python2.7/site-packages/sage/symbolic/integration/integral.pyc\u001b[0m in \u001b[0;36m_eval_\u001b[0;34m(self, f, x, a, b)\u001b[0m\n\u001b[1;32m    181\u001b[0m         \u001b[0;32mfor\u001b[0m \u001b[0mintegrator\u001b[0m \u001b[0;32min\u001b[0m \u001b[0mself\u001b[0m\u001b[0;34m.\u001b[0m\u001b[0mintegrators\u001b[0m\u001b[0;34m:\u001b[0m\u001b[0;34m\u001b[0m\u001b[0m\n\u001b[1;32m    182\u001b[0m             \u001b[0;32mtry\u001b[0m\u001b[0;34m:\u001b[0m\u001b[0;34m\u001b[0m\u001b[0m\n\u001b[0;32m--> 183\u001b[0;31m                 \u001b[0;32mreturn\u001b[0m \u001b[0mintegrator\u001b[0m\u001b[0;34m(\u001b[0m\u001b[0;34m*\u001b[0m\u001b[0margs\u001b[0m\u001b[0;34m)\u001b[0m\u001b[0;34m\u001b[0m\u001b[0m\n\u001b[0m\u001b[1;32m    184\u001b[0m             \u001b[0;32mexcept\u001b[0m \u001b[0mNotImplementedError\u001b[0m\u001b[0;34m:\u001b[0m\u001b[0;34m\u001b[0m\u001b[0m\n\u001b[1;32m    185\u001b[0m                 \u001b[0;32mpass\u001b[0m\u001b[0;34m\u001b[0m\u001b[0m\n",
      "\u001b[0;32m/Applications/SageMath-8.6.app/Contents/Resources/sage/local/lib/python2.7/site-packages/sage/symbolic/integration/external.pyc\u001b[0m in \u001b[0;36mmaxima_integrator\u001b[0;34m(expression, v, a, b)\u001b[0m\n\u001b[1;32m     32\u001b[0m         \u001b[0mresult\u001b[0m \u001b[0;34m=\u001b[0m \u001b[0mmaxima\u001b[0m\u001b[0;34m.\u001b[0m\u001b[0msr_integral\u001b[0m\u001b[0;34m(\u001b[0m\u001b[0mexpression\u001b[0m\u001b[0;34m,\u001b[0m\u001b[0mv\u001b[0m\u001b[0;34m)\u001b[0m\u001b[0;34m\u001b[0m\u001b[0m\n\u001b[1;32m     33\u001b[0m     \u001b[0;32melse\u001b[0m\u001b[0;34m:\u001b[0m\u001b[0;34m\u001b[0m\u001b[0m\n\u001b[0;32m---> 34\u001b[0;31m         \u001b[0mresult\u001b[0m \u001b[0;34m=\u001b[0m \u001b[0mmaxima\u001b[0m\u001b[0;34m.\u001b[0m\u001b[0msr_integral\u001b[0m\u001b[0;34m(\u001b[0m\u001b[0mexpression\u001b[0m\u001b[0;34m,\u001b[0m \u001b[0mv\u001b[0m\u001b[0;34m,\u001b[0m \u001b[0ma\u001b[0m\u001b[0;34m,\u001b[0m \u001b[0mb\u001b[0m\u001b[0;34m)\u001b[0m\u001b[0;34m\u001b[0m\u001b[0m\n\u001b[0m\u001b[1;32m     35\u001b[0m     \u001b[0;32mreturn\u001b[0m \u001b[0mresult\u001b[0m\u001b[0;34m.\u001b[0m\u001b[0m_sage_\u001b[0m\u001b[0;34m(\u001b[0m\u001b[0;34m)\u001b[0m\u001b[0;34m\u001b[0m\u001b[0m\n\u001b[1;32m     36\u001b[0m \u001b[0;34m\u001b[0m\u001b[0m\n",
      "\u001b[0;32m/Applications/SageMath-8.6.app/Contents/Resources/sage/local/lib/python2.7/site-packages/sage/interfaces/maxima_lib.pyc\u001b[0m in \u001b[0;36msr_integral\u001b[0;34m(self, *args)\u001b[0m\n\u001b[1;32m    807\u001b[0m         \"\"\"\n\u001b[1;32m    808\u001b[0m         \u001b[0;32mtry\u001b[0m\u001b[0;34m:\u001b[0m\u001b[0;34m\u001b[0m\u001b[0m\n\u001b[0;32m--> 809\u001b[0;31m             \u001b[0;32mreturn\u001b[0m \u001b[0mmax_to_sr\u001b[0m\u001b[0;34m(\u001b[0m\u001b[0mmaxima_eval\u001b[0m\u001b[0;34m(\u001b[0m\u001b[0;34m(\u001b[0m\u001b[0;34m[\u001b[0m\u001b[0mmax_integrate\u001b[0m\u001b[0;34m]\u001b[0m\u001b[0;34m,\u001b[0m\u001b[0;34m[\u001b[0m\u001b[0msr_to_max\u001b[0m\u001b[0;34m(\u001b[0m\u001b[0mSR\u001b[0m\u001b[0;34m(\u001b[0m\u001b[0ma\u001b[0m\u001b[0;34m)\u001b[0m\u001b[0;34m)\u001b[0m \u001b[0;32mfor\u001b[0m \u001b[0ma\u001b[0m \u001b[0;32min\u001b[0m \u001b[0margs\u001b[0m\u001b[0;34m]\u001b[0m\u001b[0;34m)\u001b[0m\u001b[0;34m)\u001b[0m\u001b[0;34m)\u001b[0m\u001b[0;34m\u001b[0m\u001b[0m\n\u001b[0m\u001b[1;32m    810\u001b[0m         \u001b[0;32mexcept\u001b[0m \u001b[0mRuntimeError\u001b[0m \u001b[0;32mas\u001b[0m \u001b[0merror\u001b[0m\u001b[0;34m:\u001b[0m\u001b[0;34m\u001b[0m\u001b[0m\n\u001b[1;32m    811\u001b[0m             \u001b[0ms\u001b[0m \u001b[0;34m=\u001b[0m \u001b[0mstr\u001b[0m\u001b[0;34m(\u001b[0m\u001b[0merror\u001b[0m\u001b[0;34m)\u001b[0m\u001b[0;34m\u001b[0m\u001b[0m\n",
      "\u001b[0;32m/Applications/SageMath-8.6.app/Contents/Resources/sage/local/lib/python2.7/site-packages/sage/libs/ecl.pyx\u001b[0m in \u001b[0;36msage.libs.ecl.EclObject.__call__ (build/cythonized/sage/libs/ecl.c:7888)\u001b[0;34m()\u001b[0m\n\u001b[1;32m    804\u001b[0m         \"\"\"\n\u001b[1;32m    805\u001b[0m         \u001b[0mlispargs\u001b[0m \u001b[0;34m=\u001b[0m \u001b[0mEclObject\u001b[0m\u001b[0;34m(\u001b[0m\u001b[0mlist\u001b[0m\u001b[0;34m(\u001b[0m\u001b[0margs\u001b[0m\u001b[0;34m)\u001b[0m\u001b[0;34m)\u001b[0m\u001b[0;34m\u001b[0m\u001b[0m\n\u001b[0;32m--> 806\u001b[0;31m         \u001b[0;32mreturn\u001b[0m \u001b[0mecl_wrap\u001b[0m\u001b[0;34m(\u001b[0m\u001b[0mecl_safe_apply\u001b[0m\u001b[0;34m(\u001b[0m\u001b[0mself\u001b[0m\u001b[0;34m.\u001b[0m\u001b[0mobj\u001b[0m\u001b[0;34m,\u001b[0m\u001b[0;34m(\u001b[0m\u001b[0;34m<\u001b[0m\u001b[0mEclObject\u001b[0m\u001b[0;34m>\u001b[0m\u001b[0mlispargs\u001b[0m\u001b[0;34m)\u001b[0m\u001b[0;34m.\u001b[0m\u001b[0mobj\u001b[0m\u001b[0;34m)\u001b[0m\u001b[0;34m)\u001b[0m\u001b[0;34m\u001b[0m\u001b[0m\n\u001b[0m\u001b[1;32m    807\u001b[0m \u001b[0;34m\u001b[0m\u001b[0m\n\u001b[1;32m    808\u001b[0m     \u001b[0;32mdef\u001b[0m \u001b[0m__richcmp__\u001b[0m\u001b[0;34m(\u001b[0m\u001b[0mleft\u001b[0m\u001b[0;34m,\u001b[0m \u001b[0mright\u001b[0m\u001b[0;34m,\u001b[0m \u001b[0mint\u001b[0m \u001b[0mop\u001b[0m\u001b[0;34m)\u001b[0m\u001b[0;34m:\u001b[0m\u001b[0;34m\u001b[0m\u001b[0m\n",
      "\u001b[0;32m/Applications/SageMath-8.6.app/Contents/Resources/sage/local/lib/python2.7/site-packages/sage/libs/ecl.pyx\u001b[0m in \u001b[0;36msage.libs.ecl.ecl_safe_apply (build/cythonized/sage/libs/ecl.c:5550)\u001b[0;34m()\u001b[0m\n\u001b[1;32m    376\u001b[0m     \u001b[0;32mif\u001b[0m \u001b[0mecl_nvalues\u001b[0m \u001b[0;34m>\u001b[0m \u001b[0;36m1\u001b[0m\u001b[0;34m:\u001b[0m\u001b[0;34m\u001b[0m\u001b[0m\n\u001b[1;32m    377\u001b[0m         \u001b[0ms\u001b[0m \u001b[0;34m=\u001b[0m \u001b[0msi_coerce_to_base_string\u001b[0m\u001b[0;34m(\u001b[0m\u001b[0mecl_values\u001b[0m\u001b[0;34m(\u001b[0m\u001b[0;36m1\u001b[0m\u001b[0;34m)\u001b[0m\u001b[0;34m)\u001b[0m\u001b[0;34m\u001b[0m\u001b[0m\n\u001b[0;32m--> 378\u001b[0;31m         raise RuntimeError(\"ECL says: {}\".format(\n\u001b[0m\u001b[1;32m    379\u001b[0m             char_to_str(ecl_base_string_pointer_safe(s))))\n\u001b[1;32m    380\u001b[0m     \u001b[0;32melse\u001b[0m\u001b[0;34m:\u001b[0m\u001b[0;34m\u001b[0m\u001b[0m\n",
      "\u001b[0;31mRuntimeError\u001b[0m: ECL says: Console interrupt."
     ]
    }
   ],
   "source": [
    "h0 = definite_integral(x * g0, x, -a, a)\n",
    "h1 = definite_integral(x * g1, x, -a, a)\n",
    "h2 = definite_integral(x * g2, x, -a, a)\n",
    "h3 = definite_integral(x * g3, x, -a, a)\n",
    "h4 = definite_integral(x * g4, x, -a, a)\n",
    "h5 = definite_integral(x * g5, x, -a, a)\n",
    "h6 = definite_integral(x * g6, x, -a, a)\n",
    "\n",
    "print(h0)\n",
    "print(\" \")\n",
    "print(h1)\n",
    "print(\" \")\n",
    "print(h2)\n",
    "print(\" \")\n",
    "print(h3)\n",
    "print(\" \")\n",
    "print(h4)\n",
    "print(\" \")\n",
    "print(h5)\n",
    "print(\" \")\n",
    "print(h6)\n",
    "print(\" \")"
   ]
  },
  {
   "cell_type": "code",
   "execution_count": null,
   "metadata": {},
   "outputs": [],
   "source": [
    "# Coindicent integrals for Galerkin\n",
    "h0_temp = definite_integral(x * g0, x, -a, a)\n",
    "h0 = h0_temp.full_simplify().subs(log(y)==0).subs(arctan(2*a/y) == pi/2)\n",
    "limit(h0, y=0)"
   ]
  },
  {
   "cell_type": "code",
   "execution_count": null,
   "metadata": {},
   "outputs": [],
   "source": [
    "# Coindicent integrals for Galerkin\n",
    "h1_temp = definite_integral(x * g1, x, -a, a)\n",
    "h1 = h1_temp.full_simplify().subs(log(y)==0).subs(arctan(2*a/y) == pi/2)\n",
    "limit(h1, y=0)"
   ]
  },
  {
   "cell_type": "code",
   "execution_count": null,
   "metadata": {},
   "outputs": [],
   "source": [
    "# Coindicent integrals for Galerkin\n",
    "h2_temp = definite_integral(x * g2, x, -a, a)\n",
    "h2 = h2_temp.full_simplify().subs(log(y)==0).subs(arctan(2*a/y) == pi/2)\n",
    "limit(h2, y=0)"
   ]
  },
  {
   "cell_type": "code",
   "execution_count": null,
   "metadata": {},
   "outputs": [],
   "source": [
    "# Coindicent integrals for Galerkin\n",
    "h3_temp = definite_integral(x * g3, x, -a, a)\n",
    "h3 = h3_temp.full_simplify().subs(log(y)==0).subs(arctan(2*a/y) == pi/2)\n",
    "limit(h3, y=0)"
   ]
  },
  {
   "cell_type": "code",
   "execution_count": 10,
   "metadata": {},
   "outputs": [
    {
     "name": "stdout",
     "output_type": "stream",
     "text": [
      "1/8*(4*a^3*x - 4*a*x^3 - 4*a*x*y^2 + (a^4 - 2*a^2*x^2 + x^4 + y^4 + 2*(a^2 + x^2)*y^2)*log(a^2 + 2*a*x + x^2 + y^2) - (a^4 - 2*a^2*x^2 + x^4 + y^4 + 2*(a^2 + x^2)*y^2)*log(abs(a^2 - 2*a*x + x^2 + y^2)))/(pi*a^4*nu - pi*a^4 - (pi - pi*nu)*x^4 - (pi - pi*nu)*y^4 - 2*(pi*a^2*nu - pi*a^2)*x^2 + 2*(pi*a^2*nu - pi*a^2 - (pi - pi*nu)*x^2)*y^2)\n",
      "\n"
     ]
    },
    {
     "ename": "ValueError",
     "evalue": "Computation failed since Maxima requested additional constraints; using the 'assume' command before evaluation *may* help (example of legal syntax is 'assume(a-1/4>0)', see `assume?` for more details)\nIs a-1/4 positive or negative?",
     "output_type": "error",
     "traceback": [
      "\u001b[0;31m---------------------------------------------------------------------------\u001b[0m",
      "\u001b[0;31mValueError\u001b[0m                                Traceback (most recent call last)",
      "\u001b[0;32m<ipython-input-10-6af3c1706a0e>\u001b[0m in \u001b[0;36m<module>\u001b[0;34m()\u001b[0m\n\u001b[1;32m      6\u001b[0m \u001b[0massume\u001b[0m\u001b[0;34m(\u001b[0m\u001b[0ma\u001b[0m\u001b[0;34m-\u001b[0m\u001b[0mInteger\u001b[0m\u001b[0;34m(\u001b[0m\u001b[0;36m3\u001b[0m\u001b[0;34m)\u001b[0m\u001b[0;34m/\u001b[0m\u001b[0mInteger\u001b[0m\u001b[0;34m(\u001b[0m\u001b[0;36m4\u001b[0m\u001b[0;34m)\u001b[0m\u001b[0;34m>\u001b[0m\u001b[0mInteger\u001b[0m\u001b[0;34m(\u001b[0m\u001b[0;36m0\u001b[0m\u001b[0;34m)\u001b[0m\u001b[0;34m)\u001b[0m\u001b[0;34m\u001b[0m\u001b[0m\n\u001b[1;32m      7\u001b[0m \u001b[0massume\u001b[0m\u001b[0;34m(\u001b[0m\u001b[0ma\u001b[0m\u001b[0;34m-\u001b[0m\u001b[0mInteger\u001b[0m\u001b[0;34m(\u001b[0m\u001b[0;36m1\u001b[0m\u001b[0;34m)\u001b[0m\u001b[0;34m/\u001b[0m\u001b[0mInteger\u001b[0m\u001b[0;34m(\u001b[0m\u001b[0;36m4\u001b[0m\u001b[0;34m)\u001b[0m\u001b[0;34m>\u001b[0m\u001b[0mInteger\u001b[0m\u001b[0;34m(\u001b[0m\u001b[0;36m0\u001b[0m\u001b[0;34m)\u001b[0m\u001b[0;34m)\u001b[0m\u001b[0;34m\u001b[0m\u001b[0m\n\u001b[0;32m----> 8\u001b[0;31m \u001b[0masdf\u001b[0m \u001b[0;34m=\u001b[0m \u001b[0mindefinite_integral\u001b[0m\u001b[0;34m(\u001b[0m\u001b[0mx\u001b[0m \u001b[0;34m*\u001b[0m \u001b[0mlog\u001b[0m\u001b[0;34m(\u001b[0m\u001b[0mx\u001b[0m\u001b[0;34m)\u001b[0m \u001b[0;34m/\u001b[0m \u001b[0;34m(\u001b[0m\u001b[0ma\u001b[0m \u001b[0;34m+\u001b[0m \u001b[0mInteger\u001b[0m\u001b[0;34m(\u001b[0m\u001b[0;36m2\u001b[0m\u001b[0;34m)\u001b[0m \u001b[0;34m*\u001b[0m \u001b[0ma\u001b[0m \u001b[0;34m*\u001b[0m \u001b[0mx\u001b[0m\u001b[0;34m**\u001b[0m\u001b[0mInteger\u001b[0m\u001b[0;34m(\u001b[0m\u001b[0;36m2\u001b[0m\u001b[0;34m)\u001b[0m \u001b[0;34m+\u001b[0m \u001b[0mx\u001b[0m\u001b[0;34m**\u001b[0m\u001b[0mInteger\u001b[0m\u001b[0;34m(\u001b[0m\u001b[0;36m4\u001b[0m\u001b[0;34m)\u001b[0m\u001b[0;34m)\u001b[0m\u001b[0;34m,\u001b[0m \u001b[0mx\u001b[0m\u001b[0;34m)\u001b[0m\u001b[0;34m\u001b[0m\u001b[0m\n\u001b[0m\u001b[1;32m      9\u001b[0m \u001b[0;32mprint\u001b[0m\u001b[0;34m(\u001b[0m\u001b[0masdf\u001b[0m\u001b[0;34m)\u001b[0m\u001b[0;34m\u001b[0m\u001b[0m\n\u001b[1;32m     10\u001b[0m \u001b[0;34m\u001b[0m\u001b[0m\n",
      "\u001b[0;32m/Applications/SageMath-8.6.app/Contents/Resources/sage/local/lib/python2.7/site-packages/sage/symbolic/function.pyx\u001b[0m in \u001b[0;36msage.symbolic.function.BuiltinFunction.__call__ (build/cythonized/sage/symbolic/function.cpp:11934)\u001b[0;34m()\u001b[0m\n\u001b[1;32m    996\u001b[0m             \u001b[0mres\u001b[0m \u001b[0;34m=\u001b[0m \u001b[0mself\u001b[0m\u001b[0;34m.\u001b[0m\u001b[0m_evalf_try_\u001b[0m\u001b[0;34m(\u001b[0m\u001b[0;34m*\u001b[0m\u001b[0margs\u001b[0m\u001b[0;34m)\u001b[0m\u001b[0;34m\u001b[0m\u001b[0m\n\u001b[1;32m    997\u001b[0m             \u001b[0;32mif\u001b[0m \u001b[0mres\u001b[0m \u001b[0;32mis\u001b[0m \u001b[0mNone\u001b[0m\u001b[0;34m:\u001b[0m\u001b[0;34m\u001b[0m\u001b[0m\n\u001b[0;32m--> 998\u001b[0;31m                 res = super(BuiltinFunction, self).__call__(\n\u001b[0m\u001b[1;32m    999\u001b[0m                         *args, coerce=coerce, hold=hold)\n\u001b[1;32m   1000\u001b[0m \u001b[0;34m\u001b[0m\u001b[0m\n",
      "\u001b[0;32m/Applications/SageMath-8.6.app/Contents/Resources/sage/local/lib/python2.7/site-packages/sage/symbolic/function.pyx\u001b[0m in \u001b[0;36msage.symbolic.function.Function.__call__ (build/cythonized/sage/symbolic/function.cpp:7014)\u001b[0;34m()\u001b[0m\n\u001b[1;32m    490\u001b[0m                     (<Expression>args[0])._gobj, hold)\n\u001b[1;32m    491\u001b[0m         \u001b[0;32melif\u001b[0m \u001b[0mself\u001b[0m\u001b[0;34m.\u001b[0m\u001b[0m_nargs\u001b[0m \u001b[0;34m==\u001b[0m \u001b[0;36m2\u001b[0m\u001b[0;34m:\u001b[0m\u001b[0;34m\u001b[0m\u001b[0m\n\u001b[0;32m--> 492\u001b[0;31m             res = g_function_eval2(self._serial, (<Expression>args[0])._gobj,\n\u001b[0m\u001b[1;32m    493\u001b[0m                     (<Expression>args[1])._gobj, hold)\n\u001b[1;32m    494\u001b[0m         \u001b[0;32melif\u001b[0m \u001b[0mself\u001b[0m\u001b[0;34m.\u001b[0m\u001b[0m_nargs\u001b[0m \u001b[0;34m==\u001b[0m \u001b[0;36m3\u001b[0m\u001b[0;34m:\u001b[0m\u001b[0;34m\u001b[0m\u001b[0m\n",
      "\u001b[0;32m/Applications/SageMath-8.6.app/Contents/Resources/sage/local/lib/python2.7/site-packages/sage/symbolic/integration/integral.pyc\u001b[0m in \u001b[0;36m_eval_\u001b[0;34m(self, f, x)\u001b[0m\n\u001b[1;32m     89\u001b[0m         \u001b[0;32mfor\u001b[0m \u001b[0mintegrator\u001b[0m \u001b[0;32min\u001b[0m \u001b[0mself\u001b[0m\u001b[0;34m.\u001b[0m\u001b[0mintegrators\u001b[0m\u001b[0;34m:\u001b[0m\u001b[0;34m\u001b[0m\u001b[0m\n\u001b[1;32m     90\u001b[0m             \u001b[0;32mtry\u001b[0m\u001b[0;34m:\u001b[0m\u001b[0;34m\u001b[0m\u001b[0m\n\u001b[0;32m---> 91\u001b[0;31m                 \u001b[0;32mreturn\u001b[0m \u001b[0mintegrator\u001b[0m\u001b[0;34m(\u001b[0m\u001b[0mf\u001b[0m\u001b[0;34m,\u001b[0m \u001b[0mx\u001b[0m\u001b[0;34m)\u001b[0m\u001b[0;34m\u001b[0m\u001b[0m\n\u001b[0m\u001b[1;32m     92\u001b[0m             \u001b[0;32mexcept\u001b[0m \u001b[0mNotImplementedError\u001b[0m\u001b[0;34m:\u001b[0m\u001b[0;34m\u001b[0m\u001b[0m\n\u001b[1;32m     93\u001b[0m                 \u001b[0;32mpass\u001b[0m\u001b[0;34m\u001b[0m\u001b[0m\n",
      "\u001b[0;32m/Applications/SageMath-8.6.app/Contents/Resources/sage/local/lib/python2.7/site-packages/sage/symbolic/integration/external.pyc\u001b[0m in \u001b[0;36mmaxima_integrator\u001b[0;34m(expression, v, a, b)\u001b[0m\n\u001b[1;32m     30\u001b[0m         \u001b[0mexpression\u001b[0m \u001b[0;34m=\u001b[0m \u001b[0mSR\u001b[0m\u001b[0;34m(\u001b[0m\u001b[0mexpression\u001b[0m\u001b[0;34m)\u001b[0m\u001b[0;34m\u001b[0m\u001b[0m\n\u001b[1;32m     31\u001b[0m     \u001b[0;32mif\u001b[0m \u001b[0ma\u001b[0m \u001b[0;32mis\u001b[0m \u001b[0mNone\u001b[0m\u001b[0;34m:\u001b[0m\u001b[0;34m\u001b[0m\u001b[0m\n\u001b[0;32m---> 32\u001b[0;31m         \u001b[0mresult\u001b[0m \u001b[0;34m=\u001b[0m \u001b[0mmaxima\u001b[0m\u001b[0;34m.\u001b[0m\u001b[0msr_integral\u001b[0m\u001b[0;34m(\u001b[0m\u001b[0mexpression\u001b[0m\u001b[0;34m,\u001b[0m\u001b[0mv\u001b[0m\u001b[0;34m)\u001b[0m\u001b[0;34m\u001b[0m\u001b[0m\n\u001b[0m\u001b[1;32m     33\u001b[0m     \u001b[0;32melse\u001b[0m\u001b[0;34m:\u001b[0m\u001b[0;34m\u001b[0m\u001b[0m\n\u001b[1;32m     34\u001b[0m         \u001b[0mresult\u001b[0m \u001b[0;34m=\u001b[0m \u001b[0mmaxima\u001b[0m\u001b[0;34m.\u001b[0m\u001b[0msr_integral\u001b[0m\u001b[0;34m(\u001b[0m\u001b[0mexpression\u001b[0m\u001b[0;34m,\u001b[0m \u001b[0mv\u001b[0m\u001b[0;34m,\u001b[0m \u001b[0ma\u001b[0m\u001b[0;34m,\u001b[0m \u001b[0mb\u001b[0m\u001b[0;34m)\u001b[0m\u001b[0;34m\u001b[0m\u001b[0m\n",
      "\u001b[0;32m/Applications/SageMath-8.6.app/Contents/Resources/sage/local/lib/python2.7/site-packages/sage/interfaces/maxima_lib.pyc\u001b[0m in \u001b[0;36msr_integral\u001b[0;34m(self, *args)\u001b[0m\n\u001b[1;32m    815\u001b[0m                 \u001b[0;32mraise\u001b[0m \u001b[0mValueError\u001b[0m\u001b[0;34m(\u001b[0m\u001b[0;34m\"Integral is divergent.\"\u001b[0m\u001b[0;34m)\u001b[0m\u001b[0;34m\u001b[0m\u001b[0m\n\u001b[1;32m    816\u001b[0m             \u001b[0;32melif\u001b[0m \u001b[0;34m\"Is\"\u001b[0m \u001b[0;32min\u001b[0m \u001b[0ms\u001b[0m\u001b[0;34m:\u001b[0m \u001b[0;31m# Maxima asked for a condition\u001b[0m\u001b[0;34m\u001b[0m\u001b[0m\n\u001b[0;32m--> 817\u001b[0;31m                 \u001b[0mself\u001b[0m\u001b[0;34m.\u001b[0m\u001b[0m_missing_assumption\u001b[0m\u001b[0;34m(\u001b[0m\u001b[0ms\u001b[0m\u001b[0;34m)\u001b[0m\u001b[0;34m\u001b[0m\u001b[0m\n\u001b[0m\u001b[1;32m    818\u001b[0m             \u001b[0;32melse\u001b[0m\u001b[0;34m:\u001b[0m\u001b[0;34m\u001b[0m\u001b[0m\n\u001b[1;32m    819\u001b[0m                 \u001b[0;32mraise\u001b[0m\u001b[0;34m\u001b[0m\u001b[0m\n",
      "\u001b[0;32m/Applications/SageMath-8.6.app/Contents/Resources/sage/local/lib/python2.7/site-packages/sage/interfaces/maxima_lib.pyc\u001b[0m in \u001b[0;36m_missing_assumption\u001b[0;34m(self, errstr)\u001b[0m\n\u001b[1;32m   1051\u001b[0m              \u001b[0;34m+\u001b[0m \u001b[0merrstr\u001b[0m\u001b[0;34m[\u001b[0m\u001b[0mjj\u001b[0m\u001b[0;34m+\u001b[0m\u001b[0;36m1\u001b[0m\u001b[0;34m:\u001b[0m\u001b[0mk\u001b[0m\u001b[0;34m]\u001b[0m \u001b[0;34m+\u001b[0m\u001b[0;34m\">0)', see `assume?` for more details)\\n\"\u001b[0m \u001b[0;34m+\u001b[0m \u001b[0merrstr\u001b[0m\u001b[0;34m\u001b[0m\u001b[0m\n\u001b[1;32m   1052\u001b[0m         \u001b[0moutstr\u001b[0m \u001b[0;34m=\u001b[0m \u001b[0moutstr\u001b[0m\u001b[0;34m.\u001b[0m\u001b[0mreplace\u001b[0m\u001b[0;34m(\u001b[0m\u001b[0;34m'_SAGE_VAR_'\u001b[0m\u001b[0;34m,\u001b[0m\u001b[0;34m''\u001b[0m\u001b[0;34m)\u001b[0m\u001b[0;34m\u001b[0m\u001b[0m\n\u001b[0;32m-> 1053\u001b[0;31m         \u001b[0;32mraise\u001b[0m \u001b[0mValueError\u001b[0m\u001b[0;34m(\u001b[0m\u001b[0moutstr\u001b[0m\u001b[0;34m)\u001b[0m\u001b[0;34m\u001b[0m\u001b[0m\n\u001b[0m\u001b[1;32m   1054\u001b[0m \u001b[0;34m\u001b[0m\u001b[0m\n\u001b[1;32m   1055\u001b[0m \u001b[0;32mdef\u001b[0m \u001b[0mis_MaximaLibElement\u001b[0m\u001b[0;34m(\u001b[0m\u001b[0mx\u001b[0m\u001b[0;34m)\u001b[0m\u001b[0;34m:\u001b[0m\u001b[0;34m\u001b[0m\u001b[0m\n",
      "\u001b[0;31mValueError\u001b[0m: Computation failed since Maxima requested additional constraints; using the 'assume' command before evaluation *may* help (example of legal syntax is 'assume(a-1/4>0)', see `assume?` for more details)\nIs a-1/4 positive or negative?"
     ]
    }
   ],
   "source": [
    "# Coindicent integrals for Galerkin\n",
    "print(g4.full_simplify())\n",
    "print(\"\")\n",
    "\n",
    "# assume(4*a-1>0)\n",
    "assume(a-3/4>0)\n",
    "assume(a-1/4>0)\n",
    "asdf = indefinite_integral(x * log(x) / (a + 2 * a * x^2 + x^4), x)\n",
    "print(asdf)\n",
    "\n",
    "# mj = MathJax()\n",
    "# html(mj.eval(latex(g4.full_simplify())))\n",
    "# latex(g4.full_simplify())\n",
    "\n",
    "# h4_temp = definite_integral(x * g4.simplify_full(), x, -a, a)\n",
    "# h4 = h4_temp.full_simplify().subs(log(y)==0).subs(arctan(2*a/y) == pi/2)\n",
    "# limit(h4, y=0)"
   ]
  },
  {
   "cell_type": "code",
   "execution_count": null,
   "metadata": {},
   "outputs": [],
   "source": [
    "# Coindicent integrals for Galerkin\n",
    "h5_temp = definite_integral(x * g5, x, -a, a)\n",
    "h5 = h5_temp.full_simplify().subs(log(y)==0).subs(arctan(2*a/y) == pi/2)\n",
    "limit(h5, y=0)"
   ]
  },
  {
   "cell_type": "code",
   "execution_count": null,
   "metadata": {},
   "outputs": [],
   "source": [
    "# Coindicent integrals for Galerkin\n",
    "assume(nu - 1 < 0)\n",
    "h6_temp = definite_integral(x * g6, x, -a, a)\n",
    "h6 = h6_temp.full_simplify().expand().subs(log(y)==0).subs(arctan(2*a/y) == pi/2).subs(a^2*y^2==0)\n",
    "\n",
    "print(h6)\n",
    "print(limit(-a^2*y^2*log(4*a^2 + y^2)/(4*pi*a^2*nu*y + pi*nu*y^3 - 4*pi*a^2*y - pi*y^3), y=0))\n",
    "print(limit(1/4*y^4*log(4*a^2 + y^2)/(4*pi*a^2*nu*y + pi*nu*y^3 - 4*pi*a^2*y - pi*y^3), y=0))\n",
    "print(limit( 2*a^4/(4*pi*a^2*nu*y + pi*nu*y^3 - 4*pi*a^2*y - pi*y^3), y=0))\n",
    "print(limit(a^2*y^2/(4*pi*a^2*nu*y + pi*nu*y^3 - 4*pi*a^2*y - pi*y^3), y=0))\n",
    "\n",
    "mj = MathJax()\n",
    "html(mj.eval(latex(h6.full_simplify().expand())))\n",
    "\n",
    "h6 = 0 # Because all 4 terms are either infinity or zer0\n"
   ]
  },
  {
   "cell_type": "code",
   "execution_count": null,
   "metadata": {},
   "outputs": [],
   "source": []
  }
 ],
 "metadata": {
  "kernelspec": {
   "display_name": "SageMath 8.1",
   "language": "",
   "name": "sagemath"
  },
  "language_info": {
   "codemirror_mode": {
    "name": "ipython",
    "version": 2
   },
   "file_extension": ".py",
   "mimetype": "text/x-python",
   "name": "python",
   "nbconvert_exporter": "python",
   "pygments_lexer": "ipython2",
   "version": "2.7.15"
  }
 },
 "nbformat": 4,
 "nbformat_minor": 2
}
