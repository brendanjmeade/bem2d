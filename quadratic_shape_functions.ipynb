{
 "cells": [
  {
   "cell_type": "code",
   "execution_count": 1,
   "metadata": {},
   "outputs": [],
   "source": [
    "from sage.symbolic.integration.integral import indefinite_integral\n",
    "from sage.symbolic.integration.integral import definite_integral\n",
    "from sage.symbolic.integration.integral import integral\n",
    "from sage.misc.latex import MathJax"
   ]
  },
  {
   "cell_type": "code",
   "execution_count": 2,
   "metadata": {},
   "outputs": [],
   "source": [
    "var('x xs y a nu')\n",
    "var('f0 f1 f2 f3 f4 f5 f6')\n",
    "assume(a > 0)\n",
    "assume(nu > 0)"
   ]
  },
  {
   "cell_type": "code",
   "execution_count": 3,
   "metadata": {},
   "outputs": [],
   "source": [
    "f0 = -1 / (4 * pi * (1 - nu)) * (y * arctan2(y, (x-xs)) - (x-xs) * log(sqrt((x-xs)^2 + y^2)))\n",
    "f1 = -1 / (4 * pi * (1 - nu)) * arctan2(y, (x-xs))\n",
    "f2 = 1 / (4 * pi * (1 - nu)) * log(sqrt((x-xs)^2 + y^2))\n",
    "f3 = 1 / (4 * pi * (1 - nu)) * (y / ((x-xs)^2 + y^2))\n",
    "f4 = 1 / (4 * pi * (1 - nu)) * ((x-xs) / ((x-xs)^2 + y^2))\n",
    "f5 = 1 / (4 * pi * (1 - nu)) * (((x-xs)^2 - y^2) / ((x-xs)^2 + y^2)^2)\n",
    "f6 = 2 * y / (4 * pi * (1 - nu)) * ((x-xs) / ((x-xs)^2 + y^2)^2)"
   ]
  },
  {
   "cell_type": "code",
   "execution_count": 4,
   "metadata": {},
   "outputs": [
    {
     "name": "stdout",
     "output_type": "stream",
     "text": [
      "1/4*((x - xs)^2/((x - xs)^2 + y^2) + y^2/((x - xs)^2 + y^2) + log(sqrt((x - xs)^2 + y^2)))/(pi*(nu - 1))\n",
      "1/4*y/(pi*((x - xs)^2 + y^2)*(nu - 1))\n",
      "1/4*(x - xs)/(pi*((x - xs)^2 + y^2)*(nu - 1))\n",
      "-1/2*(x - xs)*y/(pi*((x - xs)^2 + y^2)^2*(nu - 1))\n",
      "-1/2*(x - xs)^2/(pi*((x - xs)^2 + y^2)^2*(nu - 1)) + 1/4/(pi*((x - xs)^2 + y^2)*(nu - 1))\n",
      "1/2*(x - xs)/(pi*((x - xs)^2 + y^2)^2*(nu - 1)) - ((x - xs)^2 - y^2)*(x - xs)/(pi*((x - xs)^2 + y^2)^3*(nu - 1))\n",
      "-2*(x - xs)^2*y/(pi*((x - xs)^2 + y^2)^3*(nu - 1)) + 1/2*y/(pi*((x - xs)^2 + y^2)^2*(nu - 1))\n"
     ]
    }
   ],
   "source": [
    "# Does this convert from a line to a point?\n",
    "g0 = diff(f0, xs)\n",
    "g1 = diff(f1, xs)\n",
    "g2 = diff(f2, xs)\n",
    "g3 = diff(f3, xs)\n",
    "g4 = diff(f4, xs)\n",
    "g5 = diff(f5, xs)\n",
    "g6 = diff(f6, xs)\n",
    "print(g0)\n",
    "print(g1)\n",
    "print(g2)\n",
    "print(g3)\n",
    "print(g4)\n",
    "print(g5)\n",
    "print(g6)"
   ]
  },
  {
   "cell_type": "code",
   "execution_count": 5,
   "metadata": {
    "scrolled": true
   },
   "outputs": [
    {
     "name": "stdout",
     "output_type": "stream",
     "text": [
      "1/8*(2*y*(arctan((a + x)/y) - arctan(-(a - x)/y)) + a*log(a^2 + 2*a*x + x^2 + y^2) + a*log(a^2 - 2*a*x + x^2 + y^2) + x*log(abs(a^2 + 2*a*x + x^2 + y^2)) - x*log(abs(a^2 - 2*a*x + x^2 + y^2)))/(pi*(nu - 1))\n",
      " \n",
      "1/4*y*(arctan((a + x)/y)/y - arctan(-(a - x)/y)/y)/(pi*(nu - 1))\n",
      " \n",
      "1/8*(log(a^2 + 2*a*x + x^2 + y^2) - log(a^2 - 2*a*x + x^2 + y^2))/(pi*(nu - 1))\n",
      " \n",
      "1/4*y*(1/(a^2 + 2*a*x + x^2 + y^2) - 1/(a^2 - 2*a*x + x^2 + y^2))/(pi*(nu - 1))\n",
      " \n",
      "1/4*(a + x)/(pi*a^2*nu - pi*a^2 - (pi - pi*nu)*x^2 - (pi - pi*nu)*y^2 + 2*(pi*a*nu - pi*a)*x) + 1/4*(a - x)/(pi*a^2*nu - pi*a^2 - (pi - pi*nu)*x^2 - (pi - pi*nu)*y^2 - 2*(pi*a*nu - pi*a)*x)\n",
      " \n",
      "1/4*(a^2 + 2*a*x + x^2 - y^2)/(pi*a^4*nu - pi*a^4 - (pi - pi*nu)*x^4 - (pi - pi*nu)*y^4 + 4*(pi*a*nu - pi*a)*x^3 + 6*(pi*a^2*nu - pi*a^2)*x^2 + 2*(pi*a^2*nu - pi*a^2 - (pi - pi*nu)*x^2 + 2*(pi*a*nu - pi*a)*x)*y^2 + 4*(pi*a^3*nu - pi*a^3)*x) - 1/4*(a^2 - 2*a*x + x^2 - y^2)/(pi*a^4*nu - pi*a^4 - (pi - pi*nu)*x^4 - (pi - pi*nu)*y^4 - 4*(pi*a*nu - pi*a)*x^3 + 6*(pi*a^2*nu - pi*a^2)*x^2 + 2*(pi*a^2*nu - pi*a^2 - (pi - pi*nu)*x^2 - 2*(pi*a*nu - pi*a)*x)*y^2 - 4*(pi*a^3*nu - pi*a^3)*x)\n",
      " \n",
      "1/2*(a + x)*y/(pi*a^4*nu - pi*a^4 - (pi - pi*nu)*x^4 - (pi - pi*nu)*y^4 + 4*(pi*a*nu - pi*a)*x^3 + 6*(pi*a^2*nu - pi*a^2)*x^2 + 2*(pi*a^2*nu - pi*a^2 - (pi - pi*nu)*x^2 + 2*(pi*a*nu - pi*a)*x)*y^2 + 4*(pi*a^3*nu - pi*a^3)*x) + 1/2*(a - x)*y/(pi*a^4*nu - pi*a^4 - (pi - pi*nu)*x^4 - (pi - pi*nu)*y^4 - 4*(pi*a*nu - pi*a)*x^3 + 6*(pi*a^2*nu - pi*a^2)*x^2 + 2*(pi*a^2*nu - pi*a^2 - (pi - pi*nu)*x^2 - 2*(pi*a*nu - pi*a)*x)*y^2 - 4*(pi*a^3*nu - pi*a^3)*x)\n",
      " \n"
     ]
    }
   ],
   "source": [
    "# This is an attempt at constant slip elements that should mimic Starfield and Crouch\n",
    "g0_constant = definite_integral(diff(f0, xs), xs, -a, a)\n",
    "g1_constant = definite_integral(diff(f1, xs), xs, -a, a)\n",
    "g2_constant = definite_integral(diff(f2, xs), xs, -a, a)\n",
    "g3_constant = definite_integral(diff(f3, xs), xs, -a, a)\n",
    "g4_constant = definite_integral(diff(f4, xs), xs, -a, a)\n",
    "g5_constant = definite_integral(diff(f5, xs), xs, -a, a)\n",
    "g6_constant = definite_integral(diff(f6, xs), xs, -a, a)\n",
    "\n",
    "print(g0_constant)\n",
    "print(\" \")\n",
    "print(g1_constant)\n",
    "print(\" \")\n",
    "print(g2_constant)\n",
    "print(\" \")\n",
    "print(g3_constant)\n",
    "print(\" \")\n",
    "print(g4_constant)\n",
    "print(\" \")\n",
    "print(g5_constant)\n",
    "print(\" \")\n",
    "print(g6_constant)\n",
    "print(\" \")"
   ]
  },
  {
   "cell_type": "code",
   "execution_count": 6,
   "metadata": {},
   "outputs": [
    {
     "name": "stdout",
     "output_type": "stream",
     "text": [
      "1/16*(a^2*log(a^2 + 2*a*x + x^2 + y^2) - a^2*log(a^2 - 2*a*x + x^2 + y^2) + 4*a*x - 4*(x*arctan((a + x)/y) + x*arctan((a - x)/y))*y - (x^2 - y^2)*log(abs(a^2 + 2*a*x + x^2 + y^2)) + (x^2 - y^2)*log(abs(a^2 - 2*a*x + x^2 + y^2)))/(pi - pi*nu)\n",
      " \n",
      "-1/8*(2*x*arctan((a + x)/y) + 2*x*arctan((a - x)/y) - y*log(abs(a^2 + 2*a*x + x^2 + y^2)) + y*log(abs(a^2 - 2*a*x + x^2 + y^2)))/(pi - pi*nu)\n",
      " \n",
      "-1/8*(2*y*(arctan((a + x)/y) + arctan((a - x)/y)) + x*log(abs(a^2 + 2*a*x + x^2 + y^2)) - x*log(abs(a^2 - 2*a*x + x^2 + y^2)) - 4*a)/(pi - pi*nu)\n",
      " \n",
      "1/4*(y^4*(arctan((a + x)/y) + arctan((a - x)/y)) - 2*a*y^3 + 2*((a^2 + x^2)*arctan((a + x)/y) + (a^2 + x^2)*arctan((a - x)/y))*y^2 - 2*(a^3 + a*x^2)*y + (a^4 - 2*a^2*x^2 + x^4)*arctan((a + x)/y) + (a^4 - 2*a^2*x^2 + x^4)*arctan((a - x)/y))/(pi*a^4*nu - pi*a^4 - (pi - pi*nu)*x^4 - (pi - pi*nu)*y^4 - 2*(pi*a^2*nu - pi*a^2)*x^2 + 2*(pi*a^2*nu - pi*a^2 - (pi - pi*nu)*x^2)*y^2)\n",
      " \n",
      "1/8*(4*a^3*x - 4*a*x^3 - 4*a*x*y^2 + (a^4 - 2*a^2*x^2 + x^4 + y^4 + 2*(a^2 + x^2)*y^2)*log(abs(a^2 + 2*a*x + x^2 + y^2)) - (a^4 - 2*a^2*x^2 + x^4 + y^4 + 2*(a^2 + x^2)*y^2)*log(abs(a^2 - 2*a*x + x^2 + y^2)))/(pi*a^4*nu - pi*a^4 - (pi - pi*nu)*x^4 - (pi - pi*nu)*y^4 - 2*(pi*a^2*nu - pi*a^2)*x^2 + 2*(pi*a^2*nu - pi*a^2 - (pi - pi*nu)*x^2)*y^2)\n",
      " \n",
      "-(a^7 - 2*a^5*x^2 + a^3*x^4 + a^3*y^4 + 2*(a^5 - 3*a^3*x^2)*y^2)/(pi*a^8*nu - pi*a^8 - (pi - pi*nu)*x^8 - (pi - pi*nu)*y^8 - 4*(pi*a^2*nu - pi*a^2)*x^6 + 4*(pi*a^2*nu - pi*a^2 - (pi - pi*nu)*x^2)*y^6 + 6*(pi*a^4*nu - pi*a^4)*x^4 + 2*(3*pi*a^4*nu - 3*pi*a^4 - 3*(pi - pi*nu)*x^4 + 2*(pi*a^2*nu - pi*a^2)*x^2)*y^4 - 4*(pi*a^6*nu - pi*a^6)*x^2 + 4*(pi*a^6*nu - pi*a^6 - (pi - pi*nu)*x^6 - (pi*a^2*nu - pi*a^2)*x^4 - (pi*a^4*nu - pi*a^4)*x^2)*y^2)\n",
      " \n",
      "4*(a^3*x*y^3 + (a^5*x - a^3*x^3)*y)/(pi*a^8*nu - pi*a^8 - (pi - pi*nu)*x^8 - (pi - pi*nu)*y^8 - 4*(pi*a^2*nu - pi*a^2)*x^6 + 4*(pi*a^2*nu - pi*a^2 - (pi - pi*nu)*x^2)*y^6 + 6*(pi*a^4*nu - pi*a^4)*x^4 + 2*(3*pi*a^4*nu - 3*pi*a^4 - 3*(pi - pi*nu)*x^4 + 2*(pi*a^2*nu - pi*a^2)*x^2)*y^4 - 4*(pi*a^6*nu - pi*a^6)*x^2 + 4*(pi*a^6*nu - pi*a^6 - (pi - pi*nu)*x^6 - (pi*a^2*nu - pi*a^2)*x^4 - (pi*a^4*nu - pi*a^4)*x^2)*y^2)\n",
      " \n"
     ]
    }
   ],
   "source": [
    "# This is an attempt at linear slip elements\n",
    "g0_linear = definite_integral(xs * diff(f0, xs), xs, -a, a)\n",
    "g1_linear = definite_integral(xs * diff(f1, xs), xs, -a, a)\n",
    "g2_linear = definite_integral(xs * diff(f2, xs), xs, -a, a)\n",
    "g3_linear = definite_integral(xs * diff(f3, xs), xs, -a, a)\n",
    "g4_linear = definite_integral(xs * diff(f4, xs), xs, -a, a)\n",
    "g5_linear = definite_integral(xs * diff(f5, xs), xs, -a, a)\n",
    "g6_linear = definite_integral(xs * diff(f6, xs), xs, -a, a)\n",
    "\n",
    "print(g0_linear.simplify_full())\n",
    "print(\" \")\n",
    "print(g1_linear.simplify_full())\n",
    "print(\" \")\n",
    "print(g2_linear.simplify_full())\n",
    "print(\" \")\n",
    "print(g3_linear.simplify_full())\n",
    "print(\" \")\n",
    "print(g4_linear.simplify_full())\n",
    "print(\" \")\n",
    "print(g5_linear.simplify_full())\n",
    "print(\" \")\n",
    "print(g6_linear.simplify_full())\n",
    "print(\" \")"
   ]
  },
  {
   "cell_type": "code",
   "execution_count": 8,
   "metadata": {},
   "outputs": [
    {
     "name": "stdout",
     "output_type": "stream",
     "text": [
      "1/72*(6*y^3*(arctan((a + x)/y) + arctan((a - x)/y)) - 3*a^3*log(a^2 + 2*a*x + x^2 + y^2) - 3*a^3*log(a^2 - 2*a*x + x^2 + y^2) - 8*a^3 + 12*a*x^2 - 12*a*y^2 - 18*(x^2*arctan((a + x)/y) + x^2*arctan((a - x)/y))*y - 3*(x^3 - 3*x*y^2)*log(abs(a^2 + 2*a*x + x^2 + y^2)) + 3*(x^3 - 3*x*y^2)*log(abs(a^2 - 2*a*x + x^2 + y^2)))/(pi - pi*nu)\n",
      " \n",
      "1/4*(y^2*(arctan((a + x)/y) + arctan((a - x)/y)) - x^2*arctan((a + x)/y) - x^2*arctan((a - x)/y) + x*y*log(abs(a^2 + 2*a*x + x^2 + y^2)) - x*y*log(abs(a^2 - 2*a*x + x^2 + y^2)) - 2*a*y)/(pi - pi*nu)\n",
      " \n",
      "1/8*(4*a*x - 4*(x*arctan((a + x)/y) + x*arctan((a - x)/y))*y - (x^2 - y^2)*log(abs(a^2 + 2*a*x + x^2 + y^2)) + (x^2 - y^2)*log(abs(a^2 - 2*a*x + x^2 + y^2)))/(pi - pi*nu)\n",
      " \n",
      "-1/4*(4*a^3*x*y - 2*(x*arctan((a + x)/y) + x*arctan((a - x)/y))*y^4 - 4*((a^2*x + x^3)*arctan((a + x)/y) + (a^2*x + x^3)*arctan((a - x)/y))*y^2 - 2*(a^4*x - 2*a^2*x^3 + x^5)*arctan((a + x)/y) - 2*(a^4*x - 2*a^2*x^3 + x^5)*arctan((a - x)/y) + (y^5 + 2*(a^2 + x^2)*y^3 + (a^4 - 2*a^2*x^2 + x^4)*y)*log(abs(a^2 + 2*a*x + x^2 + y^2)) - (y^5 + 2*(a^2 + x^2)*y^3 + (a^4 - 2*a^2*x^2 + x^4)*y)*log(abs(a^2 - 2*a*x + x^2 + y^2)))/(pi*a^4*nu - pi*a^4 - (pi - pi*nu)*x^4 - (pi - pi*nu)*y^4 - 2*(pi*a^2*nu - pi*a^2)*x^2 + 2*(pi*a^2*nu - pi*a^2 - (pi - pi*nu)*x^2)*y^2)\n",
      " \n",
      "1/4*(2*y^5*(arctan((a + x)/y) + arctan((a - x)/y)) - 2*a^5 + 6*a^3*x^2 - 4*a*x^4 - 4*a*y^4 + 4*((a^2 + x^2)*arctan((a + x)/y) + (a^2 + x^2)*arctan((a - x)/y))*y^3 - 2*(3*a^3 + 4*a*x^2)*y^2 + 2*((a^4 - 2*a^2*x^2 + x^4)*arctan((a + x)/y) + (a^4 - 2*a^2*x^2 + x^4)*arctan((a - x)/y))*y + (a^4*x - 2*a^2*x^3 + x^5 + x*y^4 + 2*(a^2*x + x^3)*y^2)*log(abs(a^2 + 2*a*x + x^2 + y^2)) - (a^4*x - 2*a^2*x^3 + x^5 + x*y^4 + 2*(a^2*x + x^3)*y^2)*log(abs(a^2 - 2*a*x + x^2 + y^2)))/(pi*a^4*nu - pi*a^4 - (pi - pi*nu)*x^4 - (pi - pi*nu)*y^4 - 2*(pi*a^2*nu - pi*a^2)*x^2 + 2*(pi*a^2*nu - pi*a^2 - (pi - pi*nu)*x^2)*y^2)\n",
      " \n",
      "-1/4*(8*a^7*x - 20*a^5*x^3 + 16*a^3*x^5 - 4*a*x^7 - 4*a*x*y^6 - 4*(4*a^3*x + 3*a*x^3)*y^4 - 4*(a^5*x + 3*a*x^5)*y^2 + (a^8 - 4*a^6*x^2 + 6*a^4*x^4 - 4*a^2*x^6 + x^8 + y^8 + 4*(a^2 + x^2)*y^6 + 2*(3*a^4 + 2*a^2*x^2 + 3*x^4)*y^4 + 4*(a^6 - a^4*x^2 - a^2*x^4 + x^6)*y^2)*log(abs(a^2 + 2*a*x + x^2 + y^2)) - (a^8 - 4*a^6*x^2 + 6*a^4*x^4 - 4*a^2*x^6 + x^8 + y^8 + 4*(a^2 + x^2)*y^6 + 2*(3*a^4 + 2*a^2*x^2 + 3*x^4)*y^4 + 4*(a^6 - a^4*x^2 - a^2*x^4 + x^6)*y^2)*log(abs(a^2 - 2*a*x + x^2 + y^2)))/(pi*a^8*nu - pi*a^8 - (pi - pi*nu)*x^8 - (pi - pi*nu)*y^8 - 4*(pi*a^2*nu - pi*a^2)*x^6 + 4*(pi*a^2*nu - pi*a^2 - (pi - pi*nu)*x^2)*y^6 + 6*(pi*a^4*nu - pi*a^4)*x^4 + 2*(3*pi*a^4*nu - 3*pi*a^4 - 3*(pi - pi*nu)*x^4 + 2*(pi*a^2*nu - pi*a^2)*x^2)*y^4 - 4*(pi*a^6*nu - pi*a^6)*x^2 + 4*(pi*a^6*nu - pi*a^6 - (pi - pi*nu)*x^6 - (pi*a^2*nu - pi*a^2)*x^4 - (pi*a^4*nu - pi*a^4)*x^2)*y^2)\n",
      " \n",
      "-1/2*(y^8*(arctan((a + x)/y) + arctan((a - x)/y)) - 2*a*y^7 + 4*((a^2 + x^2)*arctan((a + x)/y) + (a^2 + x^2)*arctan((a - x)/y))*y^6 - 2*(4*a^3 + 3*a*x^2)*y^5 + 2*((3*a^4 + 2*a^2*x^2 + 3*x^4)*arctan((a + x)/y) + (3*a^4 + 2*a^2*x^2 + 3*x^4)*arctan((a - x)/y))*y^4 - 2*(5*a^5 + 3*a*x^4)*y^3 + 4*((a^6 - a^4*x^2 - a^2*x^4 + x^6)*arctan((a + x)/y) + (a^6 - a^4*x^2 - a^2*x^4 + x^6)*arctan((a - x)/y))*y^2 - 2*(2*a^7 + a^5*x^2 - 4*a^3*x^4 + a*x^6)*y + (a^8 - 4*a^6*x^2 + 6*a^4*x^4 - 4*a^2*x^6 + x^8)*arctan((a + x)/y) + (a^8 - 4*a^6*x^2 + 6*a^4*x^4 - 4*a^2*x^6 + x^8)*arctan((a - x)/y))/(pi*a^8*nu - pi*a^8 - (pi - pi*nu)*x^8 - (pi - pi*nu)*y^8 - 4*(pi*a^2*nu - pi*a^2)*x^6 + 4*(pi*a^2*nu - pi*a^2 - (pi - pi*nu)*x^2)*y^6 + 6*(pi*a^4*nu - pi*a^4)*x^4 + 2*(3*pi*a^4*nu - 3*pi*a^4 - 3*(pi - pi*nu)*x^4 + 2*(pi*a^2*nu - pi*a^2)*x^2)*y^4 - 4*(pi*a^6*nu - pi*a^6)*x^2 + 4*(pi*a^6*nu - pi*a^6 - (pi - pi*nu)*x^6 - (pi*a^2*nu - pi*a^2)*x^4 - (pi*a^4*nu - pi*a^4)*x^2)*y^2)\n",
      " \n"
     ]
    }
   ],
   "source": [
    "# This is an attempt at linear slip elements\n",
    "g0_quadratic = definite_integral(xs * xs * diff(f0, xs), xs, -a, a)\n",
    "g1_quadratic = definite_integral(xs * xs * diff(f1, xs), xs, -a, a)\n",
    "g2_quadratic = definite_integral(xs * xs * diff(f2, xs), xs, -a, a)\n",
    "g3_quadratic = definite_integral(xs * xs * diff(f3, xs), xs, -a, a)\n",
    "g4_quadratic = definite_integral(xs * xs * diff(f4, xs), xs, -a, a)\n",
    "g5_quadratic = definite_integral(xs * xs * diff(f5, xs), xs, -a, a)\n",
    "g6_quadratic = definite_integral(xs * xs * diff(f6, xs), xs, -a, a)\n",
    "\n",
    "print(g0_quadratic.simplify_full())\n",
    "print(\" \")\n",
    "print(g1_quadratic.simplify_full())\n",
    "print(\" \")\n",
    "print(g2_quadratic.simplify_full())\n",
    "print(\" \")\n",
    "print(g3_quadratic.simplify_full())\n",
    "print(\" \")\n",
    "print(g4_quadratic.simplify_full())\n",
    "print(\" \")\n",
    "print(g5_quadratic.simplify_full())\n",
    "print(\" \")\n",
    "print(g6_quadratic.simplify_full())\n",
    "print(\" \")"
   ]
  },
  {
   "cell_type": "code",
   "execution_count": 25,
   "metadata": {},
   "outputs": [],
   "source": [
    "# \\phi shape functions with Ben's \"a\" normalization\n",
    "phi_1 = (xs / a) * (9 * (xs / a) / 8 - 3 / 4)\n",
    "phi_2 = (1 - 3 * (xs / a) / 2) * (1 + 3 * (xs / a) / 2)\n",
    "phi_3 = (xs / a) * (9 * (xs / a) / 8 + 3 / 4)"
   ]
  },
  {
   "cell_type": "code",
   "execution_count": 26,
   "metadata": {},
   "outputs": [
    {
     "name": "stdout",
     "output_type": "stream",
     "text": [
      "-1/64*(6*y^3*(arctan((a + x)/y) + arctan((a - x)/y)) - 6*a^3*log(a^2 + 2*a*x + x^2 + y^2) - 8*a^3 - 12*a^2*x + 12*a*x^2 - 12*a*y^2 + 6*((2*a*x - 3*x^2)*arctan((a + x)/y) + (2*a*x - 3*x^2)*arctan((a - x)/y))*y + 3*(a*x^2 - x^3 - (a - 3*x)*y^2)*log(abs(a^2 + 2*a*x + x^2 + y^2)) - 3*(a*x^2 - x^3 - (a - 3*x)*y^2)*log(abs(a^2 - 2*a*x + x^2 + y^2)))/(pi*a^2*nu - pi*a^2)\n",
      " \n",
      "1/32*(6*y^3*(arctan((a + x)/y) + arctan((a - x)/y)) + a^3*log(a^2 + 2*a*x + x^2 + y^2) + a^3*log(a^2 - 2*a*x + x^2 + y^2) - 8*a^3 + 12*a*x^2 - 12*a*y^2 + 2*((4*a^2 - 9*x^2)*arctan((a + x)/y) + (4*a^2 - 9*x^2)*arctan((a - x)/y))*y + (4*a^2*x - 3*x^3 + 9*x*y^2)*log(abs(a^2 + 2*a*x + x^2 + y^2)) - (4*a^2*x - 3*x^3 + 9*x*y^2)*log(abs(a^2 - 2*a*x + x^2 + y^2)))/(pi*a^2*nu - pi*a^2)\n",
      " \n",
      "-1/64*(6*y^3*(arctan((a + x)/y) + arctan((a - x)/y)) - 6*a^3*log(a^2 - 2*a*x + x^2 + y^2) - 8*a^3 + 12*a^2*x + 12*a*x^2 - 12*a*y^2 - 6*((2*a*x + 3*x^2)*arctan((a + x)/y) + (2*a*x + 3*x^2)*arctan((a - x)/y))*y - 3*(a*x^2 + x^3 - (a + 3*x)*y^2)*log(abs(a^2 + 2*a*x + x^2 + y^2)) + 3*(a*x^2 + x^3 - (a + 3*x)*y^2)*log(abs(a^2 - 2*a*x + x^2 + y^2)))/(pi*a^2*nu - pi*a^2)\n"
     ]
    }
   ],
   "source": [
    "# g0 integrals with all three shape functions\n",
    "g0_quadratic_phi_1 = definite_integral(phi_1 * diff(f0, xs), xs, -a, a)\n",
    "g0_quadratic_phi_2 = definite_integral(phi_2 * diff(f0, xs), xs, -a, a)\n",
    "g0_quadratic_phi_3 = definite_integral(phi_3 * diff(f0, xs), xs, -a, a)\n",
    "print(g0_quadratic_phi_1.simplify_full())\n",
    "print(\" \")\n",
    "print(g0_quadratic_phi_2.simplify_full())\n",
    "print(\" \")\n",
    "print(g0_quadratic_phi_3.simplify_full())"
   ]
  },
  {
   "cell_type": "code",
   "execution_count": 27,
   "metadata": {},
   "outputs": [
    {
     "name": "stdout",
     "output_type": "stream",
     "text": [
      "-3/32*(3*y^2*(arctan((a + x)/y) + arctan((a - x)/y)) - (a - 3*x)*y*log(abs(a^2 + 2*a*x + x^2 + y^2)) + (a - 3*x)*y*log(abs(a^2 - 2*a*x + x^2 + y^2)) - 6*a*y + (2*a*x - 3*x^2)*arctan((a + x)/y) + (2*a*x - 3*x^2)*arctan((a - x)/y))/(pi*a^2*nu - pi*a^2)\n",
      " \n",
      "1/16*(9*y^2*(arctan((a + x)/y) + arctan((a - x)/y)) + 9*x*y*log(abs(a^2 + 2*a*x + x^2 + y^2)) - 9*x*y*log(abs(a^2 - 2*a*x + x^2 + y^2)) - 18*a*y + (4*a^2 - 9*x^2)*arctan((a + x)/y) + (4*a^2 - 9*x^2)*arctan((a - x)/y))/(pi*a^2*nu - pi*a^2)\n",
      " \n",
      "-3/32*(3*y^2*(arctan((a + x)/y) + arctan((a - x)/y)) + (a + 3*x)*y*log(abs(a^2 + 2*a*x + x^2 + y^2)) - (a + 3*x)*y*log(abs(a^2 - 2*a*x + x^2 + y^2)) - 6*a*y - (2*a*x + 3*x^2)*arctan((a + x)/y) - (2*a*x + 3*x^2)*arctan((a - x)/y))/(pi*a^2*nu - pi*a^2)\n"
     ]
    }
   ],
   "source": [
    "g1_quadratic_phi_1 = definite_integral(phi_1 * diff(f1, xs), xs, -a, a)\n",
    "g1_quadratic_phi_2 = definite_integral(phi_2 * diff(f1, xs), xs, -a, a)\n",
    "g1_quadratic_phi_3 = definite_integral(phi_3 * diff(f1, xs), xs, -a, a)\n",
    "print(g1_quadratic_phi_1.simplify_full())\n",
    "print(\" \")\n",
    "print(g1_quadratic_phi_2.simplify_full())\n",
    "print(\" \")\n",
    "print(g1_quadratic_phi_3.simplify_full())"
   ]
  },
  {
   "cell_type": "code",
   "execution_count": 28,
   "metadata": {},
   "outputs": [
    {
     "name": "stdout",
     "output_type": "stream",
     "text": [
      "3/64*(8*a^2 - 12*a*x - 4*((a - 3*x)*arctan((a + x)/y) + (a - 3*x)*arctan((a - x)/y))*y - (2*a*x - 3*x^2 + 3*y^2)*log(abs(a^2 + 2*a*x + x^2 + y^2)) + (2*a*x - 3*x^2 + 3*y^2)*log(abs(a^2 - 2*a*x + x^2 + y^2)))/(pi*a^2*nu - pi*a^2)\n",
      " \n",
      "1/32*(36*a*x - 36*(x*arctan((a + x)/y) + x*arctan((a - x)/y))*y + (4*a^2 - 9*x^2 + 9*y^2)*log(abs(a^2 + 2*a*x + x^2 + y^2)) - (4*a^2 - 9*x^2 + 9*y^2)*log(abs(a^2 - 2*a*x + x^2 + y^2)))/(pi*a^2*nu - pi*a^2)\n",
      " \n",
      "-3/64*(8*a^2 + 12*a*x - 4*((a + 3*x)*arctan((a + x)/y) + (a + 3*x)*arctan((a - x)/y))*y - (2*a*x + 3*x^2 - 3*y^2)*log(abs(a^2 + 2*a*x + x^2 + y^2)) + (2*a*x + 3*x^2 - 3*y^2)*log(abs(a^2 - 2*a*x + x^2 + y^2)))/(pi*a^2*nu - pi*a^2)\n"
     ]
    }
   ],
   "source": [
    "g2_quadratic_phi_1 = definite_integral(phi_1 * diff(f2, xs), xs, -a, a)\n",
    "g2_quadratic_phi_2 = definite_integral(phi_2 * diff(f2, xs), xs, -a, a)\n",
    "g2_quadratic_phi_3 = definite_integral(phi_3 * diff(f2, xs), xs, -a, a)\n",
    "print(g2_quadratic_phi_1.simplify_full())\n",
    "print(\" \")\n",
    "print(g2_quadratic_phi_2.simplify_full())\n",
    "print(\" \")\n",
    "print(g2_quadratic_phi_3.simplify_full())"
   ]
  },
  {
   "cell_type": "code",
   "execution_count": 29,
   "metadata": {},
   "outputs": [
    {
     "name": "stdout",
     "output_type": "stream",
     "text": [
      "3/32*(4*a^2*y^3 - 2*((a - 3*x)*arctan((a + x)/y) + (a - 3*x)*arctan((a - x)/y))*y^4 - 4*((a^3 - 3*a^2*x + a*x^2 - 3*x^3)*arctan((a + x)/y) + (a^3 - 3*a^2*x + a*x^2 - 3*x^3)*arctan((a - x)/y))*y^2 + 4*(a^4 - 3*a^3*x + a^2*x^2)*y - 2*(a^5 - 3*a^4*x - 2*a^3*x^2 + 6*a^2*x^3 + a*x^4 - 3*x^5)*arctan((a + x)/y) - 2*(a^5 - 3*a^4*x - 2*a^3*x^2 + 6*a^2*x^3 + a*x^4 - 3*x^5)*arctan((a - x)/y) - 3*(y^5 + 2*(a^2 + x^2)*y^3 + (a^4 - 2*a^2*x^2 + x^4)*y)*log(abs(a^2 + 2*a*x + x^2 + y^2)) + 3*(y^5 + 2*(a^2 + x^2)*y^3 + (a^4 - 2*a^2*x^2 + x^4)*y)*log(abs(a^2 - 2*a*x + x^2 + y^2)))/(pi*a^6*nu - pi*a^6 + (pi*a^2*nu - pi*a^2)*x^4 + (pi*a^2*nu - pi*a^2)*y^4 - 2*(pi*a^4*nu - pi*a^4)*x^2 + 2*(pi*a^4*nu - pi*a^4 + (pi*a^2*nu - pi*a^2)*x^2)*y^2)\n",
      " \n",
      "1/16*(20*a^3*x*y - 18*(x*arctan((a + x)/y) + x*arctan((a - x)/y))*y^4 - 36*((a^2*x + x^3)*arctan((a + x)/y) + (a^2*x + x^3)*arctan((a - x)/y))*y^2 - 18*(a^4*x - 2*a^2*x^3 + x^5)*arctan((a + x)/y) - 18*(a^4*x - 2*a^2*x^3 + x^5)*arctan((a - x)/y) + 9*(y^5 + 2*(a^2 + x^2)*y^3 + (a^4 - 2*a^2*x^2 + x^4)*y)*log(abs(a^2 + 2*a*x + x^2 + y^2)) - 9*(y^5 + 2*(a^2 + x^2)*y^3 + (a^4 - 2*a^2*x^2 + x^4)*y)*log(abs(a^2 - 2*a*x + x^2 + y^2)))/(pi*a^6*nu - pi*a^6 + (pi*a^2*nu - pi*a^2)*x^4 + (pi*a^2*nu - pi*a^2)*y^4 - 2*(pi*a^4*nu - pi*a^4)*x^2 + 2*(pi*a^4*nu - pi*a^4 + (pi*a^2*nu - pi*a^2)*x^2)*y^2)\n",
      " \n",
      "-3/32*(4*a^2*y^3 - 2*((a + 3*x)*arctan((a + x)/y) + (a + 3*x)*arctan((a - x)/y))*y^4 - 4*((a^3 + 3*a^2*x + a*x^2 + 3*x^3)*arctan((a + x)/y) + (a^3 + 3*a^2*x + a*x^2 + 3*x^3)*arctan((a - x)/y))*y^2 + 4*(a^4 + 3*a^3*x + a^2*x^2)*y - 2*(a^5 + 3*a^4*x - 2*a^3*x^2 - 6*a^2*x^3 + a*x^4 + 3*x^5)*arctan((a + x)/y) - 2*(a^5 + 3*a^4*x - 2*a^3*x^2 - 6*a^2*x^3 + a*x^4 + 3*x^5)*arctan((a - x)/y) + 3*(y^5 + 2*(a^2 + x^2)*y^3 + (a^4 - 2*a^2*x^2 + x^4)*y)*log(abs(a^2 + 2*a*x + x^2 + y^2)) - 3*(y^5 + 2*(a^2 + x^2)*y^3 + (a^4 - 2*a^2*x^2 + x^4)*y)*log(abs(a^2 - 2*a*x + x^2 + y^2)))/(pi*a^6*nu - pi*a^6 + (pi*a^2*nu - pi*a^2)*x^4 + (pi*a^2*nu - pi*a^2)*y^4 - 2*(pi*a^4*nu - pi*a^4)*x^2 + 2*(pi*a^4*nu - pi*a^4 + (pi*a^2*nu - pi*a^2)*x^2)*y^2)\n"
     ]
    }
   ],
   "source": [
    "g3_quadratic_phi_1 = definite_integral(phi_1 * diff(f3, xs), xs, -a, a)\n",
    "g3_quadratic_phi_2 = definite_integral(phi_2 * diff(f3, xs), xs, -a, a)\n",
    "g3_quadratic_phi_3 = definite_integral(phi_3 * diff(f3, xs), xs, -a, a)\n",
    "print(g3_quadratic_phi_1.simplify_full())\n",
    "print(\" \")\n",
    "print(g3_quadratic_phi_2.simplify_full())\n",
    "print(\" \")\n",
    "print(g3_quadratic_phi_3.simplify_full())"
   ]
  },
  {
   "cell_type": "code",
   "execution_count": 30,
   "metadata": {},
   "outputs": [
    {
     "name": "stdout",
     "output_type": "stream",
     "text": [
      "3/32*(6*y^5*(arctan((a + x)/y) + arctan((a - x)/y)) - 6*a^5 - 4*a^4*x + 18*a^3*x^2 + 4*a^2*x^3 - 12*a*x^4 - 12*a*y^4 + 12*((a^2 + x^2)*arctan((a + x)/y) + (a^2 + x^2)*arctan((a - x)/y))*y^3 - 2*(9*a^3 - 2*a^2*x + 12*a*x^2)*y^2 + 6*((a^4 - 2*a^2*x^2 + x^4)*arctan((a + x)/y) + (a^4 - 2*a^2*x^2 + x^4)*arctan((a - x)/y))*y - (a^5 - 3*a^4*x - 2*a^3*x^2 + 6*a^2*x^3 + a*x^4 - 3*x^5 + (a - 3*x)*y^4 + 2*(a^3 - 3*a^2*x + a*x^2 - 3*x^3)*y^2)*log(abs(a^2 + 2*a*x + x^2 + y^2)) + (a^5 - 3*a^4*x - 2*a^3*x^2 + 6*a^2*x^3 + a*x^4 - 3*x^5 + (a - 3*x)*y^4 + 2*(a^3 - 3*a^2*x + a*x^2 - 3*x^3)*y^2)*log(abs(a^2 - 2*a*x + x^2 + y^2)))/(pi*a^6*nu - pi*a^6 + (pi*a^2*nu - pi*a^2)*x^4 + (pi*a^2*nu - pi*a^2)*y^4 - 2*(pi*a^4*nu - pi*a^4)*x^2 + 2*(pi*a^4*nu - pi*a^4 + (pi*a^2*nu - pi*a^2)*x^2)*y^2)\n",
      " \n",
      "-1/16*(18*y^5*(arctan((a + x)/y) + arctan((a - x)/y)) - 26*a^5 + 62*a^3*x^2 - 36*a*x^4 - 36*a*y^4 + 36*((a^2 + x^2)*arctan((a + x)/y) + (a^2 + x^2)*arctan((a - x)/y))*y^3 - 2*(31*a^3 + 36*a*x^2)*y^2 + 18*((a^4 - 2*a^2*x^2 + x^4)*arctan((a + x)/y) + (a^4 - 2*a^2*x^2 + x^4)*arctan((a - x)/y))*y + 9*(a^4*x - 2*a^2*x^3 + x^5 + x*y^4 + 2*(a^2*x + x^3)*y^2)*log(abs(a^2 + 2*a*x + x^2 + y^2)) - 9*(a^4*x - 2*a^2*x^3 + x^5 + x*y^4 + 2*(a^2*x + x^3)*y^2)*log(abs(a^2 - 2*a*x + x^2 + y^2)))/(pi*a^6*nu - pi*a^6 + (pi*a^2*nu - pi*a^2)*x^4 + (pi*a^2*nu - pi*a^2)*y^4 - 2*(pi*a^4*nu - pi*a^4)*x^2 + 2*(pi*a^4*nu - pi*a^4 + (pi*a^2*nu - pi*a^2)*x^2)*y^2)\n",
      " \n",
      "3/32*(6*y^5*(arctan((a + x)/y) + arctan((a - x)/y)) - 6*a^5 + 4*a^4*x + 18*a^3*x^2 - 4*a^2*x^3 - 12*a*x^4 - 12*a*y^4 + 12*((a^2 + x^2)*arctan((a + x)/y) + (a^2 + x^2)*arctan((a - x)/y))*y^3 - 2*(9*a^3 + 2*a^2*x + 12*a*x^2)*y^2 + 6*((a^4 - 2*a^2*x^2 + x^4)*arctan((a + x)/y) + (a^4 - 2*a^2*x^2 + x^4)*arctan((a - x)/y))*y + (a^5 + 3*a^4*x - 2*a^3*x^2 - 6*a^2*x^3 + a*x^4 + 3*x^5 + (a + 3*x)*y^4 + 2*(a^3 + 3*a^2*x + a*x^2 + 3*x^3)*y^2)*log(abs(a^2 + 2*a*x + x^2 + y^2)) - (a^5 + 3*a^4*x - 2*a^3*x^2 - 6*a^2*x^3 + a*x^4 + 3*x^5 + (a + 3*x)*y^4 + 2*(a^3 + 3*a^2*x + a*x^2 + 3*x^3)*y^2)*log(abs(a^2 - 2*a*x + x^2 + y^2)))/(pi*a^6*nu - pi*a^6 + (pi*a^2*nu - pi*a^2)*x^4 + (pi*a^2*nu - pi*a^2)*y^4 - 2*(pi*a^4*nu - pi*a^4)*x^2 + 2*(pi*a^4*nu - pi*a^4 + (pi*a^2*nu - pi*a^2)*x^2)*y^2)\n"
     ]
    }
   ],
   "source": [
    "g4_quadratic_phi_1 = definite_integral(phi_1 * diff(f4, xs), xs, -a, a)\n",
    "g4_quadratic_phi_2 = definite_integral(phi_2 * diff(f4, xs), xs, -a, a)\n",
    "g4_quadratic_phi_3 = definite_integral(phi_3 * diff(f4, xs), xs, -a, a)\n",
    "print(g4_quadratic_phi_1.simplify_full())\n",
    "print(\" \")\n",
    "print(g4_quadratic_phi_2.simplify_full())\n",
    "print(\" \")\n",
    "print(g4_quadratic_phi_3.simplify_full())"
   ]
  },
  {
   "cell_type": "code",
   "execution_count": 31,
   "metadata": {},
   "outputs": [
    {
     "name": "stdout",
     "output_type": "stream",
     "text": [
      "3/32*(8*a^8 - 24*a^7*x - 16*a^6*x^2 + 60*a^5*x^3 + 8*a^4*x^4 - 48*a^3*x^5 + 12*a*x^7 + 12*a*x*y^6 + 4*(2*a^4 + 12*a^3*x + 9*a*x^3)*y^4 + 4*(4*a^6 + 3*a^5*x - 12*a^4*x^2 + 9*a*x^5)*y^2 - 3*(a^8 - 4*a^6*x^2 + 6*a^4*x^4 - 4*a^2*x^6 + x^8 + y^8 + 4*(a^2 + x^2)*y^6 + 2*(3*a^4 + 2*a^2*x^2 + 3*x^4)*y^4 + 4*(a^6 - a^4*x^2 - a^2*x^4 + x^6)*y^2)*log(abs(a^2 + 2*a*x + x^2 + y^2)) + 3*(a^8 - 4*a^6*x^2 + 6*a^4*x^4 - 4*a^2*x^6 + x^8 + y^8 + 4*(a^2 + x^2)*y^6 + 2*(3*a^4 + 2*a^2*x^2 + 3*x^4)*y^4 + 4*(a^6 - a^4*x^2 - a^2*x^4 + x^6)*y^2)*log(abs(a^2 - 2*a*x + x^2 + y^2)))/(pi*a^10*nu - pi*a^10 + (pi*a^2*nu - pi*a^2)*x^8 + (pi*a^2*nu - pi*a^2)*y^8 - 4*(pi*a^4*nu - pi*a^4)*x^6 + 4*(pi*a^4*nu - pi*a^4 + (pi*a^2*nu - pi*a^2)*x^2)*y^6 + 6*(pi*a^6*nu - pi*a^6)*x^4 + 2*(3*pi*a^6*nu - 3*pi*a^6 + 3*(pi*a^2*nu - pi*a^2)*x^4 + 2*(pi*a^4*nu - pi*a^4)*x^2)*y^4 - 4*(pi*a^8*nu - pi*a^8)*x^2 + 4*(pi*a^8*nu - pi*a^8 + (pi*a^2*nu - pi*a^2)*x^6 - (pi*a^4*nu - pi*a^4)*x^4 - (pi*a^6*nu - pi*a^6)*x^2)*y^2)\n",
      " \n",
      "1/16*(56*a^7*x - 148*a^5*x^3 + 128*a^3*x^5 - 36*a*x^7 - 36*a*x*y^6 - 12*(8*a^3*x + 9*a*x^3)*y^4 - 4*(a^5*x - 8*a^3*x^3 + 27*a*x^5)*y^2 + 9*(a^8 - 4*a^6*x^2 + 6*a^4*x^4 - 4*a^2*x^6 + x^8 + y^8 + 4*(a^2 + x^2)*y^6 + 2*(3*a^4 + 2*a^2*x^2 + 3*x^4)*y^4 + 4*(a^6 - a^4*x^2 - a^2*x^4 + x^6)*y^2)*log(abs(a^2 + 2*a*x + x^2 + y^2)) - 9*(a^8 - 4*a^6*x^2 + 6*a^4*x^4 - 4*a^2*x^6 + x^8 + y^8 + 4*(a^2 + x^2)*y^6 + 2*(3*a^4 + 2*a^2*x^2 + 3*x^4)*y^4 + 4*(a^6 - a^4*x^2 - a^2*x^4 + x^6)*y^2)*log(abs(a^2 - 2*a*x + x^2 + y^2)))/(pi*a^10*nu - pi*a^10 + (pi*a^2*nu - pi*a^2)*x^8 + (pi*a^2*nu - pi*a^2)*y^8 - 4*(pi*a^4*nu - pi*a^4)*x^6 + 4*(pi*a^4*nu - pi*a^4 + (pi*a^2*nu - pi*a^2)*x^2)*y^6 + 6*(pi*a^6*nu - pi*a^6)*x^4 + 2*(3*pi*a^6*nu - 3*pi*a^6 + 3*(pi*a^2*nu - pi*a^2)*x^4 + 2*(pi*a^4*nu - pi*a^4)*x^2)*y^4 - 4*(pi*a^8*nu - pi*a^8)*x^2 + 4*(pi*a^8*nu - pi*a^8 + (pi*a^2*nu - pi*a^2)*x^6 - (pi*a^4*nu - pi*a^4)*x^4 - (pi*a^6*nu - pi*a^6)*x^2)*y^2)\n",
      " \n",
      "-3/32*(8*a^8 + 24*a^7*x - 16*a^6*x^2 - 60*a^5*x^3 + 8*a^4*x^4 + 48*a^3*x^5 - 12*a*x^7 - 12*a*x*y^6 + 4*(2*a^4 - 12*a^3*x - 9*a*x^3)*y^4 + 4*(4*a^6 - 3*a^5*x - 12*a^4*x^2 - 9*a*x^5)*y^2 + 3*(a^8 - 4*a^6*x^2 + 6*a^4*x^4 - 4*a^2*x^6 + x^8 + y^8 + 4*(a^2 + x^2)*y^6 + 2*(3*a^4 + 2*a^2*x^2 + 3*x^4)*y^4 + 4*(a^6 - a^4*x^2 - a^2*x^4 + x^6)*y^2)*log(abs(a^2 + 2*a*x + x^2 + y^2)) - 3*(a^8 - 4*a^6*x^2 + 6*a^4*x^4 - 4*a^2*x^6 + x^8 + y^8 + 4*(a^2 + x^2)*y^6 + 2*(3*a^4 + 2*a^2*x^2 + 3*x^4)*y^4 + 4*(a^6 - a^4*x^2 - a^2*x^4 + x^6)*y^2)*log(abs(a^2 - 2*a*x + x^2 + y^2)))/(pi*a^10*nu - pi*a^10 + (pi*a^2*nu - pi*a^2)*x^8 + (pi*a^2*nu - pi*a^2)*y^8 - 4*(pi*a^4*nu - pi*a^4)*x^6 + 4*(pi*a^4*nu - pi*a^4 + (pi*a^2*nu - pi*a^2)*x^2)*y^6 + 6*(pi*a^6*nu - pi*a^6)*x^4 + 2*(3*pi*a^6*nu - 3*pi*a^6 + 3*(pi*a^2*nu - pi*a^2)*x^4 + 2*(pi*a^4*nu - pi*a^4)*x^2)*y^4 - 4*(pi*a^8*nu - pi*a^8)*x^2 + 4*(pi*a^8*nu - pi*a^8 + (pi*a^2*nu - pi*a^2)*x^6 - (pi*a^4*nu - pi*a^4)*x^4 - (pi*a^6*nu - pi*a^6)*x^2)*y^2)\n"
     ]
    }
   ],
   "source": [
    "g5_quadratic_phi_1 = definite_integral(phi_1 * diff(f5, xs), xs, -a, a)\n",
    "g5_quadratic_phi_2 = definite_integral(phi_2 * diff(f5, xs), xs, -a, a)\n",
    "g5_quadratic_phi_3 = definite_integral(phi_3 * diff(f5, xs), xs, -a, a)\n",
    "print(g5_quadratic_phi_1.simplify_full())\n",
    "print(\" \")\n",
    "print(g5_quadratic_phi_2.simplify_full())\n",
    "print(\" \")\n",
    "print(g5_quadratic_phi_3.simplify_full())"
   ]
  },
  {
   "cell_type": "code",
   "execution_count": 32,
   "metadata": {},
   "outputs": [
    {
     "name": "stdout",
     "output_type": "stream",
     "text": [
      "-3/16*(3*y^8*(arctan((a + x)/y) + arctan((a - x)/y)) - 6*a*y^7 + 12*((a^2 + x^2)*arctan((a + x)/y) + (a^2 + x^2)*arctan((a - x)/y))*y^6 - 6*(4*a^3 + 3*a*x^2)*y^5 + 6*((3*a^4 + 2*a^2*x^2 + 3*x^4)*arctan((a + x)/y) + (3*a^4 + 2*a^2*x^2 + 3*x^4)*arctan((a - x)/y))*y^4 - 2*(15*a^5 - 8*a^4*x + 9*a*x^4)*y^3 + 12*((a^6 - a^4*x^2 - a^2*x^4 + x^6)*arctan((a + x)/y) + (a^6 - a^4*x^2 - a^2*x^4 + x^6)*arctan((a - x)/y))*y^2 - 2*(6*a^7 - 8*a^6*x + 3*a^5*x^2 + 8*a^4*x^3 - 12*a^3*x^4 + 3*a*x^6)*y + 3*(a^8 - 4*a^6*x^2 + 6*a^4*x^4 - 4*a^2*x^6 + x^8)*arctan((a + x)/y) + 3*(a^8 - 4*a^6*x^2 + 6*a^4*x^4 - 4*a^2*x^6 + x^8)*arctan((a - x)/y))/(pi*a^10*nu - pi*a^10 + (pi*a^2*nu - pi*a^2)*x^8 + (pi*a^2*nu - pi*a^2)*y^8 - 4*(pi*a^4*nu - pi*a^4)*x^6 + 4*(pi*a^4*nu - pi*a^4 + (pi*a^2*nu - pi*a^2)*x^2)*y^6 + 6*(pi*a^6*nu - pi*a^6)*x^4 + 2*(3*pi*a^6*nu - 3*pi*a^6 + 3*(pi*a^2*nu - pi*a^2)*x^4 + 2*(pi*a^4*nu - pi*a^4)*x^2)*y^4 - 4*(pi*a^8*nu - pi*a^8)*x^2 + 4*(pi*a^8*nu - pi*a^8 + (pi*a^2*nu - pi*a^2)*x^6 - (pi*a^4*nu - pi*a^4)*x^4 - (pi*a^6*nu - pi*a^6)*x^2)*y^2)\n",
      " \n",
      "1/8*(9*y^8*(arctan((a + x)/y) + arctan((a - x)/y)) - 18*a*y^7 + 36*((a^2 + x^2)*arctan((a + x)/y) + (a^2 + x^2)*arctan((a - x)/y))*y^6 - 2*(32*a^3 + 27*a*x^2)*y^5 + 18*((3*a^4 + 2*a^2*x^2 + 3*x^4)*arctan((a + x)/y) + (3*a^4 + 2*a^2*x^2 + 3*x^4)*arctan((a - x)/y))*y^4 - 2*(37*a^5 + 8*a^3*x^2 + 27*a*x^4)*y^3 + 36*((a^6 - a^4*x^2 - a^2*x^4 + x^6)*arctan((a + x)/y) + (a^6 - a^4*x^2 - a^2*x^4 + x^6)*arctan((a - x)/y))*y^2 - 2*(14*a^7 + a^5*x^2 - 24*a^3*x^4 + 9*a*x^6)*y + 9*(a^8 - 4*a^6*x^2 + 6*a^4*x^4 - 4*a^2*x^6 + x^8)*arctan((a + x)/y) + 9*(a^8 - 4*a^6*x^2 + 6*a^4*x^4 - 4*a^2*x^6 + x^8)*arctan((a - x)/y))/(pi*a^10*nu - pi*a^10 + (pi*a^2*nu - pi*a^2)*x^8 + (pi*a^2*nu - pi*a^2)*y^8 - 4*(pi*a^4*nu - pi*a^4)*x^6 + 4*(pi*a^4*nu - pi*a^4 + (pi*a^2*nu - pi*a^2)*x^2)*y^6 + 6*(pi*a^6*nu - pi*a^6)*x^4 + 2*(3*pi*a^6*nu - 3*pi*a^6 + 3*(pi*a^2*nu - pi*a^2)*x^4 + 2*(pi*a^4*nu - pi*a^4)*x^2)*y^4 - 4*(pi*a^8*nu - pi*a^8)*x^2 + 4*(pi*a^8*nu - pi*a^8 + (pi*a^2*nu - pi*a^2)*x^6 - (pi*a^4*nu - pi*a^4)*x^4 - (pi*a^6*nu - pi*a^6)*x^2)*y^2)\n",
      " \n",
      "-3/16*(3*y^8*(arctan((a + x)/y) + arctan((a - x)/y)) - 6*a*y^7 + 12*((a^2 + x^2)*arctan((a + x)/y) + (a^2 + x^2)*arctan((a - x)/y))*y^6 - 6*(4*a^3 + 3*a*x^2)*y^5 + 6*((3*a^4 + 2*a^2*x^2 + 3*x^4)*arctan((a + x)/y) + (3*a^4 + 2*a^2*x^2 + 3*x^4)*arctan((a - x)/y))*y^4 - 2*(15*a^5 + 8*a^4*x + 9*a*x^4)*y^3 + 12*((a^6 - a^4*x^2 - a^2*x^4 + x^6)*arctan((a + x)/y) + (a^6 - a^4*x^2 - a^2*x^4 + x^6)*arctan((a - x)/y))*y^2 - 2*(6*a^7 + 8*a^6*x + 3*a^5*x^2 - 8*a^4*x^3 - 12*a^3*x^4 + 3*a*x^6)*y + 3*(a^8 - 4*a^6*x^2 + 6*a^4*x^4 - 4*a^2*x^6 + x^8)*arctan((a + x)/y) + 3*(a^8 - 4*a^6*x^2 + 6*a^4*x^4 - 4*a^2*x^6 + x^8)*arctan((a - x)/y))/(pi*a^10*nu - pi*a^10 + (pi*a^2*nu - pi*a^2)*x^8 + (pi*a^2*nu - pi*a^2)*y^8 - 4*(pi*a^4*nu - pi*a^4)*x^6 + 4*(pi*a^4*nu - pi*a^4 + (pi*a^2*nu - pi*a^2)*x^2)*y^6 + 6*(pi*a^6*nu - pi*a^6)*x^4 + 2*(3*pi*a^6*nu - 3*pi*a^6 + 3*(pi*a^2*nu - pi*a^2)*x^4 + 2*(pi*a^4*nu - pi*a^4)*x^2)*y^4 - 4*(pi*a^8*nu - pi*a^8)*x^2 + 4*(pi*a^8*nu - pi*a^8 + (pi*a^2*nu - pi*a^2)*x^6 - (pi*a^4*nu - pi*a^4)*x^4 - (pi*a^6*nu - pi*a^6)*x^2)*y^2)\n"
     ]
    }
   ],
   "source": [
    "g6_quadratic_phi_1 = definite_integral(phi_1 * diff(f6, xs), xs, -a, a)\n",
    "g6_quadratic_phi_2 = definite_integral(phi_2 * diff(f6, xs), xs, -a, a)\n",
    "g6_quadratic_phi_3 = definite_integral(phi_3 * diff(f6, xs), xs, -a, a)\n",
    "print(g6_quadratic_phi_1.simplify_full())\n",
    "print(\" \")\n",
    "print(g6_quadratic_phi_2.simplify_full())\n",
    "print(\" \")\n",
    "print(g6_quadratic_phi_3.simplify_full())"
   ]
  },
  {
   "cell_type": "code",
   "execution_count": 37,
   "metadata": {},
   "outputs": [
    {
     "name": "stdout",
     "output_type": "stream",
     "text": [
      "1/64*(2*a^3*(3*log(a^2 + 2*a*x + x^2) + 4) - 3*a*x^2*(log(a^2 + 2*a*x + x^2) - log(a^2 - 2*a*x + x^2) + 4) + 3*x^3*(log(a^2 + 2*a*x + x^2) - log(a^2 - 2*a*x + x^2)) + 12*a^2*x)/(pi*a^2*nu - pi*a^2)\n",
      " \n",
      "1/32*(a^3*(log(a^2 + 2*a*x + x^2) + log(a^2 - 2*a*x + x^2) - 8) + 4*a^2*x*(log(a^2 + 2*a*x + x^2) - log(a^2 - 2*a*x + x^2)) - 3*x^3*(log(a^2 + 2*a*x + x^2) - log(a^2 - 2*a*x + x^2)) + 12*a*x^2)/(pi*a^2*nu - pi*a^2)\n",
      " \n",
      "1/64*(3*x^3*(log(a^2 + 2*a*x + x^2) - log(a^2 - 2*a*x + x^2)) + 3*a*x^2*(log(a^2 + 2*a*x + x^2) - log(a^2 - 2*a*x + x^2) - 4) + 2*a^3*(3*log(a^2 - 2*a*x + x^2) + 4) - 12*a^2*x)/(pi*a^2*nu - pi*a^2)\n",
      " \n"
     ]
    }
   ],
   "source": [
    "# g0 limit to boundary\n",
    "temp = g0_quadratic_phi_1.full_simplify().subs(log(y)==0).subs(arctan(2*a/y) == pi/2)\n",
    "print(limit(temp, y=0))\n",
    "print(\" \")\n",
    "\n",
    "temp = g0_quadratic_phi_2.full_simplify().subs(log(y)==0).subs(arctan(2*a/y) == pi/2)\n",
    "print(limit(temp, y=0))\n",
    "print(\" \")\n",
    "\n",
    "temp = g0_quadratic_phi_3.full_simplify().subs(log(y)==0).subs(arctan(2*a/y) == pi/2)\n",
    "print(limit(temp, y=0))"
   ]
  },
  {
   "cell_type": "code",
   "execution_count": 45,
   "metadata": {},
   "outputs": [
    {
     "name": "stdout",
     "output_type": "stream",
     "text": [
      "und\n",
      " \n",
      "und\n",
      " \n"
     ]
    },
    {
     "ename": "RuntimeError",
     "evalue": "ECL says: Error executing code in Maxima: ",
     "output_type": "error",
     "traceback": [
      "\u001b[0;31m---------------------------------------------------------------------------\u001b[0m",
      "\u001b[0;31mRuntimeError\u001b[0m                              Traceback (most recent call last)",
      "\u001b[0;32m<ipython-input-45-371ea896db22>\u001b[0m in \u001b[0;36m<module>\u001b[0;34m()\u001b[0m\n\u001b[1;32m     10\u001b[0m \u001b[0;34m\u001b[0m\u001b[0m\n\u001b[1;32m     11\u001b[0m \u001b[0mtemp\u001b[0m \u001b[0;34m=\u001b[0m \u001b[0mg1_quadratic_phi_3\u001b[0m\u001b[0;34m.\u001b[0m\u001b[0mfull_simplify\u001b[0m\u001b[0;34m(\u001b[0m\u001b[0;34m)\u001b[0m\u001b[0;34m.\u001b[0m\u001b[0msubs\u001b[0m\u001b[0;34m(\u001b[0m\u001b[0mlog\u001b[0m\u001b[0;34m(\u001b[0m\u001b[0my\u001b[0m\u001b[0;34m)\u001b[0m\u001b[0;34m==\u001b[0m\u001b[0mInteger\u001b[0m\u001b[0;34m(\u001b[0m\u001b[0;36m0\u001b[0m\u001b[0;34m)\u001b[0m\u001b[0;34m)\u001b[0m\u001b[0;34m.\u001b[0m\u001b[0msubs\u001b[0m\u001b[0;34m(\u001b[0m\u001b[0marctan\u001b[0m\u001b[0;34m(\u001b[0m\u001b[0;34m(\u001b[0m\u001b[0ma\u001b[0m\u001b[0;34m-\u001b[0m\u001b[0mx\u001b[0m\u001b[0;34m)\u001b[0m\u001b[0;34m/\u001b[0m\u001b[0my\u001b[0m\u001b[0;34m)\u001b[0m \u001b[0;34m==\u001b[0m \u001b[0mpi\u001b[0m\u001b[0;34m/\u001b[0m\u001b[0mInteger\u001b[0m\u001b[0;34m(\u001b[0m\u001b[0;36m2\u001b[0m\u001b[0;34m)\u001b[0m\u001b[0;34m)\u001b[0m\u001b[0;34m.\u001b[0m\u001b[0msubs\u001b[0m\u001b[0;34m(\u001b[0m\u001b[0marctan\u001b[0m\u001b[0;34m(\u001b[0m\u001b[0;34m(\u001b[0m\u001b[0ma\u001b[0m\u001b[0;34m+\u001b[0m\u001b[0mx\u001b[0m\u001b[0;34m)\u001b[0m\u001b[0;34m/\u001b[0m\u001b[0my\u001b[0m\u001b[0;34m)\u001b[0m \u001b[0;34m==\u001b[0m \u001b[0;34m-\u001b[0m\u001b[0mpi\u001b[0m\u001b[0;34m/\u001b[0m\u001b[0mInteger\u001b[0m\u001b[0;34m(\u001b[0m\u001b[0;36m2\u001b[0m\u001b[0;34m)\u001b[0m\u001b[0;34m)\u001b[0m\u001b[0;34m\u001b[0m\u001b[0m\n\u001b[0;32m---> 12\u001b[0;31m \u001b[0;32mprint\u001b[0m\u001b[0;34m(\u001b[0m\u001b[0mlimit\u001b[0m\u001b[0;34m(\u001b[0m\u001b[0mtemp\u001b[0m\u001b[0;34m,\u001b[0m \u001b[0my\u001b[0m\u001b[0;34m=\u001b[0m\u001b[0mInteger\u001b[0m\u001b[0;34m(\u001b[0m\u001b[0;36m0\u001b[0m\u001b[0;34m)\u001b[0m\u001b[0;34m)\u001b[0m\u001b[0;34m)\u001b[0m\u001b[0;34m\u001b[0m\u001b[0m\n\u001b[0m\u001b[1;32m     13\u001b[0m \u001b[0;34m\u001b[0m\u001b[0m\n\u001b[1;32m     14\u001b[0m \u001b[0mmj\u001b[0m \u001b[0;34m=\u001b[0m \u001b[0mMathJax\u001b[0m\u001b[0;34m(\u001b[0m\u001b[0;34m)\u001b[0m\u001b[0;34m\u001b[0m\u001b[0m\n",
      "\u001b[0;32m/Applications/SageMath-8.6.app/Contents/Resources/sage/local/lib/python2.7/site-packages/sage/calculus/calculus.pyc\u001b[0m in \u001b[0;36mlimit\u001b[0;34m(ex, dir, taylor, algorithm, **argv)\u001b[0m\n\u001b[1;32m   1333\u001b[0m     \u001b[0;32mif\u001b[0m \u001b[0malgorithm\u001b[0m \u001b[0;34m==\u001b[0m \u001b[0;34m'maxima'\u001b[0m\u001b[0;34m:\u001b[0m\u001b[0;34m\u001b[0m\u001b[0m\n\u001b[1;32m   1334\u001b[0m         \u001b[0;32mif\u001b[0m \u001b[0mdir\u001b[0m \u001b[0;32mis\u001b[0m \u001b[0mNone\u001b[0m\u001b[0;34m:\u001b[0m\u001b[0;34m\u001b[0m\u001b[0m\n\u001b[0;32m-> 1335\u001b[0;31m             \u001b[0ml\u001b[0m \u001b[0;34m=\u001b[0m \u001b[0mmaxima\u001b[0m\u001b[0;34m.\u001b[0m\u001b[0msr_limit\u001b[0m\u001b[0;34m(\u001b[0m\u001b[0mex\u001b[0m\u001b[0;34m,\u001b[0m \u001b[0mv\u001b[0m\u001b[0;34m,\u001b[0m \u001b[0ma\u001b[0m\u001b[0;34m)\u001b[0m\u001b[0;34m\u001b[0m\u001b[0m\n\u001b[0m\u001b[1;32m   1336\u001b[0m         \u001b[0;32melif\u001b[0m \u001b[0mdir\u001b[0m \u001b[0;32min\u001b[0m \u001b[0;34m[\u001b[0m\u001b[0;34m'plus'\u001b[0m\u001b[0;34m,\u001b[0m \u001b[0;34m'+'\u001b[0m\u001b[0;34m,\u001b[0m \u001b[0;34m'right'\u001b[0m\u001b[0;34m,\u001b[0m \u001b[0;34m'above'\u001b[0m\u001b[0;34m]\u001b[0m\u001b[0;34m:\u001b[0m\u001b[0;34m\u001b[0m\u001b[0m\n\u001b[1;32m   1337\u001b[0m             \u001b[0ml\u001b[0m \u001b[0;34m=\u001b[0m \u001b[0mmaxima\u001b[0m\u001b[0;34m.\u001b[0m\u001b[0msr_limit\u001b[0m\u001b[0;34m(\u001b[0m\u001b[0mex\u001b[0m\u001b[0;34m,\u001b[0m \u001b[0mv\u001b[0m\u001b[0;34m,\u001b[0m \u001b[0ma\u001b[0m\u001b[0;34m,\u001b[0m \u001b[0;34m'plus'\u001b[0m\u001b[0;34m)\u001b[0m\u001b[0;34m\u001b[0m\u001b[0m\n",
      "\u001b[0;32m/Applications/SageMath-8.6.app/Contents/Resources/sage/local/lib/python2.7/site-packages/sage/interfaces/maxima_lib.pyc\u001b[0m in \u001b[0;36msr_limit\u001b[0;34m(self, expr, v, a, dir)\u001b[0m\n\u001b[1;32m   1002\u001b[0m             \u001b[0;32melif\u001b[0m \u001b[0mdir\u001b[0m \u001b[0;34m==\u001b[0m \u001b[0;34m\"minus\"\u001b[0m\u001b[0;34m:\u001b[0m\u001b[0;34m\u001b[0m\u001b[0m\n\u001b[1;32m   1003\u001b[0m                 \u001b[0mL\u001b[0m\u001b[0;34m.\u001b[0m\u001b[0mappend\u001b[0m\u001b[0;34m(\u001b[0m\u001b[0mmax_minus\u001b[0m\u001b[0;34m)\u001b[0m\u001b[0;34m\u001b[0m\u001b[0m\n\u001b[0;32m-> 1004\u001b[0;31m             \u001b[0;32mreturn\u001b[0m \u001b[0mmax_to_sr\u001b[0m\u001b[0;34m(\u001b[0m\u001b[0mmaxima_eval\u001b[0m\u001b[0;34m(\u001b[0m\u001b[0;34m(\u001b[0m\u001b[0;34m[\u001b[0m\u001b[0mmax_limit\u001b[0m\u001b[0;34m]\u001b[0m\u001b[0;34m,\u001b[0m \u001b[0mL\u001b[0m\u001b[0;34m)\u001b[0m\u001b[0;34m)\u001b[0m\u001b[0;34m)\u001b[0m\u001b[0;34m\u001b[0m\u001b[0m\n\u001b[0m\u001b[1;32m   1005\u001b[0m         \u001b[0;32mexcept\u001b[0m \u001b[0mRuntimeError\u001b[0m \u001b[0;32mas\u001b[0m \u001b[0merror\u001b[0m\u001b[0;34m:\u001b[0m\u001b[0;34m\u001b[0m\u001b[0m\n\u001b[1;32m   1006\u001b[0m             \u001b[0ms\u001b[0m \u001b[0;34m=\u001b[0m \u001b[0mstr\u001b[0m\u001b[0;34m(\u001b[0m\u001b[0merror\u001b[0m\u001b[0;34m)\u001b[0m\u001b[0;34m\u001b[0m\u001b[0m\n",
      "\u001b[0;32m/Applications/SageMath-8.6.app/Contents/Resources/sage/local/lib/python2.7/site-packages/sage/libs/ecl.pyx\u001b[0m in \u001b[0;36msage.libs.ecl.EclObject.__call__ (build/cythonized/sage/libs/ecl.c:7888)\u001b[0;34m()\u001b[0m\n\u001b[1;32m    804\u001b[0m         \"\"\"\n\u001b[1;32m    805\u001b[0m         \u001b[0mlispargs\u001b[0m \u001b[0;34m=\u001b[0m \u001b[0mEclObject\u001b[0m\u001b[0;34m(\u001b[0m\u001b[0mlist\u001b[0m\u001b[0;34m(\u001b[0m\u001b[0margs\u001b[0m\u001b[0;34m)\u001b[0m\u001b[0;34m)\u001b[0m\u001b[0;34m\u001b[0m\u001b[0m\n\u001b[0;32m--> 806\u001b[0;31m         \u001b[0;32mreturn\u001b[0m \u001b[0mecl_wrap\u001b[0m\u001b[0;34m(\u001b[0m\u001b[0mecl_safe_apply\u001b[0m\u001b[0;34m(\u001b[0m\u001b[0mself\u001b[0m\u001b[0;34m.\u001b[0m\u001b[0mobj\u001b[0m\u001b[0;34m,\u001b[0m\u001b[0;34m(\u001b[0m\u001b[0;34m<\u001b[0m\u001b[0mEclObject\u001b[0m\u001b[0;34m>\u001b[0m\u001b[0mlispargs\u001b[0m\u001b[0;34m)\u001b[0m\u001b[0;34m.\u001b[0m\u001b[0mobj\u001b[0m\u001b[0;34m)\u001b[0m\u001b[0;34m)\u001b[0m\u001b[0;34m\u001b[0m\u001b[0m\n\u001b[0m\u001b[1;32m    807\u001b[0m \u001b[0;34m\u001b[0m\u001b[0m\n\u001b[1;32m    808\u001b[0m     \u001b[0;32mdef\u001b[0m \u001b[0m__richcmp__\u001b[0m\u001b[0;34m(\u001b[0m\u001b[0mleft\u001b[0m\u001b[0;34m,\u001b[0m \u001b[0mright\u001b[0m\u001b[0;34m,\u001b[0m \u001b[0mint\u001b[0m \u001b[0mop\u001b[0m\u001b[0;34m)\u001b[0m\u001b[0;34m:\u001b[0m\u001b[0;34m\u001b[0m\u001b[0m\n",
      "\u001b[0;32m/Applications/SageMath-8.6.app/Contents/Resources/sage/local/lib/python2.7/site-packages/sage/libs/ecl.pyx\u001b[0m in \u001b[0;36msage.libs.ecl.ecl_safe_apply (build/cythonized/sage/libs/ecl.c:5550)\u001b[0;34m()\u001b[0m\n\u001b[1;32m    376\u001b[0m     \u001b[0;32mif\u001b[0m \u001b[0mecl_nvalues\u001b[0m \u001b[0;34m>\u001b[0m \u001b[0;36m1\u001b[0m\u001b[0;34m:\u001b[0m\u001b[0;34m\u001b[0m\u001b[0m\n\u001b[1;32m    377\u001b[0m         \u001b[0ms\u001b[0m \u001b[0;34m=\u001b[0m \u001b[0msi_coerce_to_base_string\u001b[0m\u001b[0;34m(\u001b[0m\u001b[0mecl_values\u001b[0m\u001b[0;34m(\u001b[0m\u001b[0;36m1\u001b[0m\u001b[0;34m)\u001b[0m\u001b[0;34m)\u001b[0m\u001b[0;34m\u001b[0m\u001b[0m\n\u001b[0;32m--> 378\u001b[0;31m         raise RuntimeError(\"ECL says: {}\".format(\n\u001b[0m\u001b[1;32m    379\u001b[0m             char_to_str(ecl_base_string_pointer_safe(s))))\n\u001b[1;32m    380\u001b[0m     \u001b[0;32melse\u001b[0m\u001b[0;34m:\u001b[0m\u001b[0;34m\u001b[0m\u001b[0m\n",
      "\u001b[0;31mRuntimeError\u001b[0m: ECL says: Error executing code in Maxima: "
     ]
    }
   ],
   "source": [
    "# g1 limit to boundary\n",
    "assume(a > 1)\n",
    "temp = g1_quadratic_phi_1.full_simplify()\n",
    "print(limit(temp, y=0))\n",
    "print(\" \")\n",
    "\n",
    "temp = g1_quadratic_phi_2.full_simplify().subs(log(y)==0).subs(arctan(2*a/y) == pi/2)\n",
    "print(limit(temp, y=0))\n",
    "print(\" \")\n",
    "\n",
    "temp = g1_quadratic_phi_3.full_simplify().subs(log(y)==0).subs(arctan((a-x)/y) == pi/2).subs(arctan((a+x)/y) == -pi/2)\n",
    "print(limit(temp, y=0))\n",
    "\n",
    "mj = MathJax()\n",
    "html(mj.eval(latex(g1_quadratic_phi_3.full_simplify())))"
   ]
  },
  {
   "cell_type": "code",
   "execution_count": null,
   "metadata": {},
   "outputs": [],
   "source": []
  }
 ],
 "metadata": {
  "kernelspec": {
   "display_name": "SageMath 8.6",
   "language": "",
   "name": "sagemath"
  },
  "language_info": {
   "codemirror_mode": {
    "name": "ipython",
    "version": 2
   },
   "file_extension": ".py",
   "mimetype": "text/x-python",
   "name": "python",
   "nbconvert_exporter": "python",
   "pygments_lexer": "ipython2",
   "version": "2.7.15"
  }
 },
 "nbformat": 4,
 "nbformat_minor": 2
}
